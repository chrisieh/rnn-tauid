{
 "cells": [
  {
   "cell_type": "markdown",
   "metadata": {
    "deletable": true,
    "editable": true
   },
   "source": [
    "# Preprocessing"
   ]
  },
  {
   "cell_type": "code",
   "execution_count": 1,
   "metadata": {
    "collapsed": true,
    "deletable": true,
    "editable": true
   },
   "outputs": [],
   "source": [
    "import numpy as np\n",
    "import dask.array as da\n",
    "import h5py\n",
    "\n",
    "%matplotlib inline\n",
    "%run mpl_setup.py\n",
    "import matplotlib.pyplot as plt"
   ]
  },
  {
   "cell_type": "markdown",
   "metadata": {
    "deletable": true,
    "editable": true
   },
   "source": [
    "Input files and datasets:"
   ]
  },
  {
   "cell_type": "code",
   "execution_count": 2,
   "metadata": {
    "collapsed": false,
    "deletable": true,
    "editable": true
   },
   "outputs": [],
   "source": [
    "# Track-level datasets\n",
    "sigf = h5py.File(\"/lustre/user/cdeutsch/rnn-new-samples/sig1P_track_shuffle.h5\", \"r\")\n",
    "bkgf = h5py.File(\"/lustre/user/cdeutsch/rnn-new-samples/bkg1P_track_shuffle.h5\", \"r\")\n",
    "sig_ds = sigf[\"track\"]\n",
    "bkg_ds = bkgf[\"track\"]\n",
    "\n",
    "# Tau-level datasets\n",
    "sigf_tau = h5py.File(\"/lustre/user/cdeutsch/rnn-new-samples/sig1P_jet_shuffle.h5\", \"r\")\n",
    "bkgf_tau = h5py.File(\"/lustre/user/cdeutsch/rnn-new-samples/bkg1P_jet_shuffle.h5\", \"r\")\n",
    "sig_tau_ds = sigf_tau[\"jet\"]\n",
    "bkg_tau_ds = bkgf_tau[\"jet\"]"
   ]
  },
  {
   "cell_type": "code",
   "execution_count": 3,
   "metadata": {
    "collapsed": true,
    "deletable": true,
    "editable": true
   },
   "outputs": [],
   "source": [
    "sig = da.from_array(sig_ds, chunks=sig_ds.chunks)\n",
    "bkg = da.from_array(bkg_ds, chunks=bkg_ds.chunks)\n",
    "sig_tau = da.from_array(sig_tau_ds, chunks=sig_tau_ds.chunks)\n",
    "bkg_tau = da.from_array(bkg_tau_ds, chunks=bkg_tau_ds.chunks)"
   ]
  },
  {
   "cell_type": "markdown",
   "metadata": {
    "deletable": true,
    "editable": true
   },
   "source": [
    "Slimmed list of variables:"
   ]
  },
  {
   "cell_type": "code",
   "execution_count": 4,
   "metadata": {
    "collapsed": true,
    "deletable": true,
    "editable": true
   },
   "outputs": [],
   "source": [
    "invars = [\"TauTracks.qOverP\", \"TauTracks.z0sinThetaTJVA\", \"TauTracks.d0\",\n",
    "          \"TauTracks.dRJetSeedAxis\", \"TauTracks.rConvII\", \"TauTracks.nInnermostPixelHits\",\n",
    "          \"TauTracks.nPixelHits\", \"TauTracks.nSiHits\", \"TauTracks.eProbabilityHT\"]"
   ]
  },
  {
   "cell_type": "markdown",
   "metadata": {
    "deletable": true,
    "editable": true
   },
   "source": [
    "Sample fractions for training/validation"
   ]
  },
  {
   "cell_type": "code",
   "execution_count": 5,
   "metadata": {
    "collapsed": false,
    "deletable": true,
    "editable": true
   },
   "outputs": [
    {
     "name": "stdout",
     "output_type": "stream",
     "text": [
      "[0:988859] for RNN-training\n",
      "[988859:1318479] for validation\n"
     ]
    }
   ],
   "source": [
    "total_frac = 0.2\n",
    "idx = int(total_frac * min(len(sig), len(bkg)))\n",
    "val_frac = 0.25\n",
    "val_split = int((1.0 - val_frac) * idx)\n",
    "n_tracks = 10\n",
    "\n",
    "print(\"[0:{}] for RNN-training\".format(val_split))\n",
    "print(\"[{}:{}] for validation\".format(val_split, idx))"
   ]
  },
  {
   "cell_type": "markdown",
   "metadata": {
    "deletable": true,
    "editable": true
   },
   "source": [
    "## Loading, slimming, splitting, merging"
   ]
  },
  {
   "cell_type": "code",
   "execution_count": 6,
   "metadata": {
    "collapsed": true,
    "deletable": true,
    "editable": true
   },
   "outputs": [],
   "source": [
    "# Fraction of entire dataset\n",
    "sig_split = sig[:idx, :n_tracks]\n",
    "bkg_split = bkg[:idx, :n_tracks]"
   ]
  },
  {
   "cell_type": "markdown",
   "metadata": {},
   "source": [
    "### Calculate extra variables"
   ]
  },
  {
   "cell_type": "code",
   "execution_count": 7,
   "metadata": {
    "collapsed": true
   },
   "outputs": [],
   "source": [
    "sig_tau_split = sig_tau[:idx]\n",
    "bkg_tau_split = bkg_tau[:idx]"
   ]
  },
  {
   "cell_type": "code",
   "execution_count": 8,
   "metadata": {
    "collapsed": false
   },
   "outputs": [],
   "source": [
    "sig_charge = da.sign(sig_split[\"TauTracks.qOverP\"])\n",
    "bkg_charge = da.sign(bkg_split[\"TauTracks.qOverP\"])"
   ]
  },
  {
   "cell_type": "code",
   "execution_count": 9,
   "metadata": {
    "collapsed": false
   },
   "outputs": [],
   "source": [
    "sig_pt_track = sig_split[\"TauTracks.pt\"]\n",
    "bkg_pt_track = bkg_split[\"TauTracks.pt\"]"
   ]
  },
  {
   "cell_type": "code",
   "execution_count": 10,
   "metadata": {
    "collapsed": false
   },
   "outputs": [],
   "source": [
    "sig_pt_jet = sig_tau_split[\"TauJets.ptJetSeed\"][:, np.newaxis]\n",
    "bkg_pt_jet = sig_tau_split[\"TauJets.ptJetSeed\"][:, np.newaxis]"
   ]
  },
  {
   "cell_type": "code",
   "execution_count": 11,
   "metadata": {
    "collapsed": false
   },
   "outputs": [],
   "source": [
    "sig_pt_frac = sig_pt_track / sig_pt_jet\n",
    "bkg_pt_frac = bkg_pt_track / bkg_pt_jet"
   ]
  },
  {
   "cell_type": "code",
   "execution_count": 12,
   "metadata": {
    "collapsed": true
   },
   "outputs": [],
   "source": [
    "s = sig_pt_frac[:, 0].compute()\n",
    "b = bkg_pt_frac[:, 0].compute()"
   ]
  },
  {
   "cell_type": "code",
   "execution_count": 13,
   "metadata": {
    "collapsed": false
   },
   "outputs": [
    {
     "data": {
      "text/plain": [
       "0.10369372587655928"
      ]
     },
     "execution_count": 13,
     "metadata": {},
     "output_type": "execute_result"
    }
   ],
   "source": [
    "np.count_nonzero(b > 2.0) / float(len(s))"
   ]
  },
  {
   "cell_type": "code",
   "execution_count": 14,
   "metadata": {
    "collapsed": false
   },
   "outputs": [
    {
     "data": {
      "text/plain": [
       "0.41606630682945256"
      ]
     },
     "execution_count": 14,
     "metadata": {},
     "output_type": "execute_result"
    }
   ],
   "source": [
    "np.max([np.percentile(b, 34), np.percentile(s, 34)])"
   ]
  },
  {
   "cell_type": "code",
   "execution_count": 15,
   "metadata": {
    "collapsed": false
   },
   "outputs": [
    {
     "data": {
      "text/plain": [
       "<matplotlib.text.Text at 0x7f428ac0e950>"
      ]
     },
     "execution_count": 15,
     "metadata": {},
     "output_type": "execute_result"
    },
    {
     "name": "stderr",
     "output_type": "stream",
     "text": [
      "/lustre/user/cdeutsch/miniconda2/envs/ML/lib/python2.7/site-packages/matplotlib/font_manager.py:1297: UserWarning: findfont: Font family [u'sans-serif'] not found. Falling back to DejaVu Sans\n",
      "  (prop.get_family(), self.defaultFamily[fontext]))\n"
     ]
    },
    {
     "data": {
      "image/png": "[encoded data removed]",
      "text/plain": [
       "<matplotlib.figure.Figure at 0x7f428ac0ebd0>"
      ]
     },
     "metadata": {},
     "output_type": "display_data"
    }
   ],
   "source": [
    "plt.hist(s, bins=40, range=(0, 2), histtype=\"step\", normed=True, label=\"Signal\")\n",
    "plt.hist(b, bins=40, range=(0, 2), histtype=\"step\", normed=True, label=\"Background\")\n",
    "plt.legend()\n",
    "plt.xlabel(\"$p_\\mathrm{T}^\\mathrm{track} / p_\\mathrm{T}^\\mathrm{jet}$\")"
   ]
  },
  {
   "cell_type": "markdown",
   "metadata": {},
   "source": [
    "### Continue slimming"
   ]
  },
  {
   "cell_type": "code",
   "execution_count": 16,
   "metadata": {
    "collapsed": true,
    "deletable": true,
    "editable": true
   },
   "outputs": [],
   "source": [
    "# Slim variables\n",
    "sig_split = sig_split[invars]\n",
    "bkg_split = bkg_split[invars]"
   ]
  },
  {
   "cell_type": "code",
   "execution_count": 17,
   "metadata": {
    "collapsed": true,
    "deletable": true,
    "editable": true
   },
   "outputs": [],
   "source": [
    "# Convert structured array to ndarray\n",
    "sig_split = sig_split.view(np.float32).reshape(sig_split.shape + (-1,))\n",
    "bkg_split = bkg_split.view(np.float32).reshape(bkg_split.shape + (-1,))"
   ]
  },
  {
   "cell_type": "code",
   "execution_count": 18,
   "metadata": {
    "collapsed": false,
    "deletable": true,
    "editable": true
   },
   "outputs": [],
   "source": [
    "# TODO: This should be as early as possible\n",
    "\n",
    "# Set tracks with all zeros to nan\n",
    "sig_equal_zero = sig_split == 0\n",
    "bkg_equal_zero = bkg_split == 0\n",
    "\n",
    "# All properties of a single track are zero\n",
    "sig_all_zero = da.all(sig_equal_zero, axis=2, keepdims=True)\n",
    "bkg_all_zero = da.all(bkg_equal_zero, axis=2, keepdims=True)\n",
    "\n",
    "# Broadcast the reduced axis back to full size\n",
    "sig_mask = da.broadcast_to(sig_all_zero, sig_split.shape)\n",
    "bkg_mask = da.broadcast_to(bkg_all_zero, bkg_split.shape)\n",
    "\n",
    "# Set nan\n",
    "sig_split[sig_mask] = np.nan\n",
    "bkg_split[bkg_mask] = np.nan"
   ]
  },
  {
   "cell_type": "code",
   "execution_count": 19,
   "metadata": {
    "collapsed": false,
    "deletable": true,
    "editable": true
   },
   "outputs": [],
   "source": [
    "# Train split\n",
    "sig_train = sig_split[:val_split]\n",
    "bkg_train = bkg_split[:val_split]\n",
    "\n",
    "# Validation split\n",
    "sig_val = sig_split[val_split:idx]\n",
    "bkg_val = bkg_split[val_split:idx]\n",
    "\n",
    "# Concatenate sig & bkg\n",
    "train = da.vstack((sig_train, bkg_train))\n",
    "validation = da.vstack((sig_val, bkg_val))\n",
    "\n",
    "# Sample labels\n",
    "train_label = da.concatenate(\n",
    "    (da.ones(val_split, dtype=np.float32, chunks=1000000),\n",
    "     da.zeros(val_split, dtype=np.float32, chunks=1000000))\n",
    ")\n",
    "validation_label = da.concatenate(\n",
    "    (da.ones(idx - val_split, dtype=np.float32, chunks=1000000), \n",
    "     da.zeros(idx - val_split, dtype=np.float32, chunks=1000000)))"
   ]
  },
  {
   "cell_type": "markdown",
   "metadata": {
    "deletable": true,
    "editable": true
   },
   "source": [
    "## Subtract mean, divide by stddev"
   ]
  },
  {
   "cell_type": "code",
   "execution_count": 20,
   "metadata": {
    "collapsed": false,
    "deletable": true,
    "editable": true
   },
   "outputs": [],
   "source": [
    "offset = da.nanmean(train, axis=0)\n",
    "scale = da.nanstd(train, axis=0)\n",
    "\n",
    "train -= offset\n",
    "train /= scale\n",
    "\n",
    "validation -= offset\n",
    "validation /= scale"
   ]
  },
  {
   "cell_type": "markdown",
   "metadata": {},
   "source": [
    "## $p_\\mathrm{T}$-reweighting"
   ]
  },
  {
   "cell_type": "code",
   "execution_count": 21,
   "metadata": {
    "collapsed": false
   },
   "outputs": [],
   "source": [
    "sig_pt = sig_tau_ds[:idx, \"TauJets.pt\"]\n",
    "bkg_pt = bkg_tau_ds[:idx, \"TauJets.pt\"]"
   ]
  },
  {
   "cell_type": "code",
   "execution_count": 22,
   "metadata": {
    "collapsed": false
   },
   "outputs": [
    {
     "data": {
      "text/plain": [
       "<matplotlib.text.Text at 0x7f428a706650>"
      ]
     },
     "execution_count": 22,
     "metadata": {},
     "output_type": "execute_result"
    },
    {
     "data": {
      "image/png": "[encoded data removed]",
      "text/plain": [
       "<matplotlib.figure.Figure at 0x7f4288137250>"
      ]
     },
     "metadata": {},
     "output_type": "display_data"
    }
   ],
   "source": [
    "plt.hist(sig_pt / 1000.0, bins=35, range=(0, 800), histtype=\"step\", normed=True, label=\"Signal\")\n",
    "plt.hist(bkg_pt / 1000.0, bins=35, range=(0, 800), histtype=\"step\", normed=True, label=\"Background\")\n",
    "plt.legend()\n",
    "lo, hi = plt.ylim()\n",
    "plt.ylim((lo, 1.1 * hi))\n",
    "plt.xlabel(\"$p_\\mathrm{T}$ / GeV\")\n",
    "plt.ylabel(\"Normalized number of events\")\n",
    "plt.title(\"Before reweighting\")"
   ]
  },
  {
   "cell_type": "code",
   "execution_count": 23,
   "metadata": {
    "collapsed": false
   },
   "outputs": [],
   "source": [
    "bin_edges = np.percentile(bkg_pt, np.linspace(0.0, 100.0, 30))\n",
    "bin_edges[0] = 20000.0 # 20 GeV lower limit\n",
    "bin_edges[-1] = 4000000.0 # 4000 GeV upper limit\n",
    "midpoints = (bin_edges[1:] + bin_edges[:-1]) / 2.0"
   ]
  },
  {
   "cell_type": "code",
   "execution_count": 24,
   "metadata": {
    "collapsed": true
   },
   "outputs": [],
   "source": [
    "sig_hist, _ = np.histogram(sig_pt, bins=bin_edges, density=True)\n",
    "bkg_hist, _ = np.histogram(bkg_pt, bins=bin_edges, density=True)\n",
    "nsig_hist, _ = np.histogram(sig_pt, bins=bin_edges)\n",
    "nbkg_hist, _ = np.histogram(bkg_pt, bins=bin_edges)"
   ]
  },
  {
   "cell_type": "code",
   "execution_count": 25,
   "metadata": {
    "collapsed": false
   },
   "outputs": [],
   "source": [
    "coeff = sig_hist / bkg_hist"
   ]
  },
  {
   "cell_type": "code",
   "execution_count": 26,
   "metadata": {
    "collapsed": false,
    "scrolled": true
   },
   "outputs": [
    {
     "data": {
      "image/png": "[encoded data removed]",
      "text/plain": [
       "<matplotlib.figure.Figure at 0x7f428954c5d0>"
      ]
     },
     "metadata": {},
     "output_type": "display_data"
    }
   ],
   "source": [
    "plt.plot(midpoints / 1000.0, coeff, \".\")\n",
    "plt.xlabel(\"$p_\\mathrm{T}$ / GeV\")\n",
    "plt.ylabel(\"Reweighting coefficient\")\n",
    "plt.xscale(\"log\")"
   ]
  },
  {
   "cell_type": "code",
   "execution_count": 27,
   "metadata": {
    "collapsed": false
   },
   "outputs": [],
   "source": [
    "sig_weight = np.ones_like(sig_pt)\n",
    "bkg_weight = coeff[np.digitize(bkg_pt, bin_edges) - 1].astype(np.float32)"
   ]
  },
  {
   "cell_type": "code",
   "execution_count": 28,
   "metadata": {
    "collapsed": false
   },
   "outputs": [
    {
     "data": {
      "text/plain": [
       "<matplotlib.text.Text at 0x7f42554b79d0>"
      ]
     },
     "execution_count": 28,
     "metadata": {},
     "output_type": "execute_result"
    },
    {
     "data": {
      "image/png": "[encoded data removed]",
      "text/plain": [
       "<matplotlib.figure.Figure at 0x7f425554e1d0>"
      ]
     },
     "metadata": {},
     "output_type": "display_data"
    }
   ],
   "source": [
    "plt.hist(sig_pt / 1000.0, weights=sig_weight, bins=35, range=(0, 800), histtype=\"step\", normed=True, label=\"Signal\")\n",
    "plt.hist(bkg_pt / 1000.0, weights=bkg_weight, bins=35, range=(0, 800), histtype=\"step\", normed=True, label=\"Background\")\n",
    "plt.legend()\n",
    "lo, hi = plt.ylim()\n",
    "plt.ylim((lo, 1.1 * hi))\n",
    "plt.xlabel(\"$p_\\mathrm{T}$ / GeV\")\n",
    "plt.ylabel(\"Normalized number of events\")\n",
    "plt.title(\"After reweighting\")"
   ]
  },
  {
   "cell_type": "code",
   "execution_count": 29,
   "metadata": {
    "collapsed": false
   },
   "outputs": [],
   "source": [
    "train_weight = np.concatenate((sig_weight[:val_split], bkg_weight[:val_split]))\n",
    "validation_weight = np.concatenate((sig_weight[val_split:], bkg_weight[val_split:]))"
   ]
  },
  {
   "cell_type": "markdown",
   "metadata": {
    "deletable": true,
    "editable": true
   },
   "source": [
    "## Save array and auxiliary info"
   ]
  },
  {
   "cell_type": "code",
   "execution_count": 30,
   "metadata": {
    "collapsed": true,
    "deletable": true,
    "editable": true
   },
   "outputs": [],
   "source": [
    "outf = \"split1P_w_weights.h5\""
   ]
  },
  {
   "cell_type": "code",
   "execution_count": 31,
   "metadata": {
    "collapsed": true,
    "deletable": true,
    "editable": true
   },
   "outputs": [],
   "source": [
    "h5opt = dict(compression=\"gzip\", compression_opts=9, fletcher32=True)"
   ]
  },
  {
   "cell_type": "code",
   "execution_count": 32,
   "metadata": {
    "collapsed": false,
    "deletable": true,
    "editable": true
   },
   "outputs": [
    {
     "name": "stderr",
     "output_type": "stream",
     "text": [
      "/lustre/user/cdeutsch/miniconda2/envs/ML/lib/python2.7/site-packages/dask/array/core.py:2544: FutureWarning: Numpy has detected that you may be viewing or writing to an array returned by selecting multiple fields in a structured array. \n",
      "\n",
      "This code may break in numpy 1.13 because this will return a view instead of a copy -- see release notes for details.\n",
      "  return function(*args2, **kwargs)\n"
     ]
    }
   ],
   "source": [
    "da.to_hdf5(outf, {\"/train\": train, \"/train_label\": train_label,\n",
    "                  \"/validation\": validation, \"/validation_label\": validation_label,\n",
    "                  \"/offset\": offset, \"/scale\": scale},\n",
    "           **h5opt)"
   ]
  },
  {
   "cell_type": "code",
   "execution_count": 33,
   "metadata": {
    "collapsed": false,
    "deletable": true,
    "editable": true
   },
   "outputs": [],
   "source": [
    "with h5py.File(outf, \"a\") as f:\n",
    "    f.create_dataset(\"/variables\", data=np.array(invars, dtype=\"S\"), **h5opt)\n",
    "    f.create_dataset(\"/splits\", data=np.array([val_split, idx], dtype=np.int32), **h5opt)\n",
    "    f.create_dataset(\"/train_weight\", data=train_weight, **h5opt)\n",
    "    f.create_dataset(\"/validation_weight\", data=validation_weight, **h5opt)"
   ]
  },
  {
   "cell_type": "code",
   "execution_count": 34,
   "metadata": {
    "collapsed": false,
    "deletable": true,
    "editable": true
   },
   "outputs": [],
   "source": [
    "sigf.close()\n",
    "bkgf.close()\n",
    "sigf_tau.close()\n",
    "bkgf_tau.close()"
   ]
  },
  {
   "cell_type": "code",
   "execution_count": null,
   "metadata": {
    "collapsed": true
   },
   "outputs": [],
   "source": []
  }
 ],
 "metadata": {
  "kernelspec": {
   "display_name": "Python 2",
   "language": "python",
   "name": "python2"
  },
  "language_info": {
   "codemirror_mode": {
    "name": "ipython",
    "version": 2
   },
   "file_extension": ".py",
   "mimetype": "text/x-python",
   "name": "python",
   "nbconvert_exporter": "python",
   "pygments_lexer": "ipython2",
   "version": "2.7.13"
  }
 },
 "nbformat": 4,
 "nbformat_minor": 2
}
