{
 "cells": [
  {
   "cell_type": "markdown",
   "metadata": {
    "deletable": true,
    "editable": true
   },
   "source": [
    "# Preprocessing"
   ]
  },
  {
   "cell_type": "code",
   "execution_count": 1,
   "metadata": {
    "collapsed": true,
    "deletable": true,
    "editable": true
   },
   "outputs": [],
   "source": [
    "import numpy as np\n",
    "import dask.array as da\n",
    "import h5py"
   ]
  },
  {
   "cell_type": "markdown",
   "metadata": {
    "deletable": true,
    "editable": true
   },
   "source": [
    "Input files and datasets:"
   ]
  },
  {
   "cell_type": "code",
   "execution_count": 2,
   "metadata": {
    "collapsed": true,
    "deletable": true,
    "editable": true
   },
   "outputs": [],
   "source": [
    "sigf = h5py.File(\"sig1P_track_shuffle.h5\", \"r\")\n",
    "bkgf = h5py.File(\"bkg1P_track_shuffle.h5\", \"r\")\n",
    "sig_ds = sigf[\"track\"]\n",
    "bkg_ds = bkgf[\"track\"]"
   ]
  },
  {
   "cell_type": "code",
   "execution_count": 3,
   "metadata": {
    "collapsed": true,
    "deletable": true,
    "editable": true
   },
   "outputs": [],
   "source": [
    "sig = da.from_array(sig_ds, chunks=sig_ds.chunks)\n",
    "bkg = da.from_array(bkg_ds, chunks=bkg_ds.chunks)"
   ]
  },
  {
   "cell_type": "markdown",
   "metadata": {
    "deletable": true,
    "editable": true
   },
   "source": [
    "Slimmed list of variables:"
   ]
  },
  {
   "cell_type": "code",
   "execution_count": 4,
   "metadata": {
    "collapsed": true,
    "deletable": true,
    "editable": true
   },
   "outputs": [],
   "source": [
    "invars = [\"TauTracks.qOverP\", \"TauTracks.z0sinThetaTJVA\", \"TauTracks.d0\",\n",
    "          \"TauTracks.dRJetSeedAxis\", \"TauTracks.rConvII\", \"TauTracks.nInnermostPixelHits\",\n",
    "          \"TauTracks.nPixelHits\", \"TauTracks.nSiHits\", \"TauTracks.eProbabilityHT\"]"
   ]
  },
  {
   "cell_type": "markdown",
   "metadata": {
    "deletable": true,
    "editable": true
   },
   "source": [
    "Sample fractions for training/validation"
   ]
  },
  {
   "cell_type": "code",
   "execution_count": 5,
   "metadata": {
    "collapsed": false,
    "deletable": true,
    "editable": true
   },
   "outputs": [
    {
     "name": "stdout",
     "output_type": "stream",
     "text": [
      "[0:988859] for RNN-training\n",
      "[988859:1318479] for validation\n"
     ]
    }
   ],
   "source": [
    "total_frac = 0.2\n",
    "idx = int(total_frac * min(len(sig), len(bkg)))\n",
    "val_frac = 0.25\n",
    "val_split = int((1.0 - val_frac) * idx)\n",
    "n_tracks = 10\n",
    "\n",
    "print(\"[0:{}] for RNN-training\".format(val_split))\n",
    "print(\"[{}:{}] for validation\".format(val_split, idx))"
   ]
  },
  {
   "cell_type": "markdown",
   "metadata": {
    "deletable": true,
    "editable": true
   },
   "source": [
    "## Loading, slimming, splitting, merging"
   ]
  },
  {
   "cell_type": "code",
   "execution_count": 6,
   "metadata": {
    "collapsed": true,
    "deletable": true,
    "editable": true
   },
   "outputs": [],
   "source": [
    "# Fraction of entire dataset\n",
    "sig_split = sig[:idx, :n_tracks]\n",
    "bkg_split = bkg[:idx, :n_tracks]"
   ]
  },
  {
   "cell_type": "code",
   "execution_count": 7,
   "metadata": {
    "collapsed": true,
    "deletable": true,
    "editable": true
   },
   "outputs": [],
   "source": [
    "# Slim variables\n",
    "sig_split = sig_split[invars]\n",
    "bkg_split = bkg_split[invars]"
   ]
  },
  {
   "cell_type": "code",
   "execution_count": 8,
   "metadata": {
    "collapsed": true,
    "deletable": true,
    "editable": true
   },
   "outputs": [],
   "source": [
    "# Convert structured array to ndarray\n",
    "sig_split = sig_split.view(np.float32).reshape(sig_split.shape + (-1,))\n",
    "bkg_split = bkg_split.view(np.float32).reshape(bkg_split.shape + (-1,))"
   ]
  },
  {
   "cell_type": "code",
   "execution_count": 9,
   "metadata": {
    "collapsed": false
   },
   "outputs": [],
   "source": [
    "# Set tracks with all zeros to nan\n",
    "sig_equal_zero = sig_split == 0\n",
    "bkg_equal_zero = bkg_split == 0\n",
    "\n",
    "# All properties of a single track are zero\n",
    "sig_all_zero = da.all(sig_equal_zero, axis=2, keepdims=True)\n",
    "bkg_all_zero = da.all(bkg_equal_zero, axis=2, keepdims=True)\n",
    "\n",
    "# Broadcast the reduced axis back to full size\n",
    "sig_mask = da.broadcast_to(sig_all_zero, sig_split.shape)\n",
    "bkg_mask = da.broadcast_to(bkg_all_zero, bkg_split.shape)\n",
    "\n",
    "# Set nan\n",
    "sig_split[sig_mask] = np.nan\n",
    "bkg_split[bkg_mask] = np.nan"
   ]
  },
  {
   "cell_type": "code",
   "execution_count": 10,
   "metadata": {
    "collapsed": false,
    "deletable": true,
    "editable": true
   },
   "outputs": [],
   "source": [
    "# Train split\n",
    "sig_train = sig_split[:val_split]\n",
    "bkg_train = bkg_split[:val_split]\n",
    "\n",
    "# Validation split\n",
    "sig_val = sig_split[val_split:idx]\n",
    "bkg_val = bkg_split[val_split:idx]\n",
    "\n",
    "# Concatenate sig & bkg\n",
    "train = da.vstack((sig_train, bkg_train))\n",
    "validation = da.vstack((sig_val, bkg_val))\n",
    "\n",
    "# Sample labels\n",
    "train_label = da.concatenate(\n",
    "    (da.ones(val_split, dtype=np.float32, chunks=1000000),\n",
    "     da.zeros(val_split, dtype=np.float32, chunks=1000000))\n",
    ")\n",
    "validation_label = da.concatenate(\n",
    "    (da.ones(idx - val_split, dtype=np.float32, chunks=1000000), \n",
    "     da.zeros(idx - val_split, dtype=np.float32, chunks=1000000)))"
   ]
  },
  {
   "cell_type": "markdown",
   "metadata": {
    "deletable": true,
    "editable": true
   },
   "source": [
    "## Subtract mean, divide by stddev"
   ]
  },
  {
   "cell_type": "code",
   "execution_count": 11,
   "metadata": {
    "collapsed": false,
    "deletable": true,
    "editable": true
   },
   "outputs": [],
   "source": [
    "offset = da.nanmean(train, axis=0)\n",
    "scale = da.nanstd(train, axis=0)\n",
    "\n",
    "train -= offset\n",
    "train /= scale\n",
    "\n",
    "validation -= offset\n",
    "validation /= scale"
   ]
  },
  {
   "cell_type": "code",
   "execution_count": 12,
   "metadata": {
    "collapsed": true,
    "deletable": true,
    "editable": true
   },
   "outputs": [],
   "source": [
    "# TODO shuffle"
   ]
  },
  {
   "cell_type": "markdown",
   "metadata": {
    "deletable": true,
    "editable": true
   },
   "source": [
    "## Save array and auxiliary info"
   ]
  },
  {
   "cell_type": "code",
   "execution_count": 13,
   "metadata": {
    "collapsed": true,
    "deletable": true,
    "editable": true
   },
   "outputs": [],
   "source": [
    "outf = \"split1P.h5\""
   ]
  },
  {
   "cell_type": "code",
   "execution_count": 14,
   "metadata": {
    "collapsed": true,
    "deletable": true,
    "editable": true
   },
   "outputs": [],
   "source": [
    "# Check if exists"
   ]
  },
  {
   "cell_type": "code",
   "execution_count": 15,
   "metadata": {
    "collapsed": false,
    "deletable": true,
    "editable": true
   },
   "outputs": [
    {
     "name": "stderr",
     "output_type": "stream",
     "text": [
      "C:\\Users\\chris\\Miniconda3\\envs\\ML\\lib\\site-packages\\dask\\array\\core.py:2544: FutureWarning: Numpy has detected that you may be viewing or writing to an array returned by selecting multiple fields in a structured array. \n",
      "\n",
      "This code may break in numpy 1.13 because this will return a view instead of a copy -- see release notes for details.\n",
      "  return function(*args2, **kwargs)\n"
     ]
    }
   ],
   "source": [
    "da.to_hdf5(outf, {\"/train\": train, \"/train_label\": train_label,\n",
    "                  \"/validation\": validation, \"/validation_label\": validation_label,\n",
    "                  \"/offset\": offset, \"/scale\": scale},\n",
    "           compression=\"gzip\", compression_opts=9)"
   ]
  },
  {
   "cell_type": "code",
   "execution_count": 16,
   "metadata": {
    "collapsed": false,
    "deletable": true,
    "editable": true
   },
   "outputs": [],
   "source": [
    "with h5py.File(outf, \"a\") as f:\n",
    "    f.create_dataset(\"/variables\", data=np.array(invars, dtype=\"S\"))\n",
    "    f.create_dataset(\"/splits\", data=np.array([val_split, idx], dtype=np.int32))"
   ]
  },
  {
   "cell_type": "code",
   "execution_count": 17,
   "metadata": {
    "collapsed": false,
    "deletable": true,
    "editable": true
   },
   "outputs": [],
   "source": [
    "sigf.close()\n",
    "bkgf.close()"
   ]
  },
  {
   "cell_type": "code",
   "execution_count": null,
   "metadata": {
    "collapsed": true,
    "deletable": true,
    "editable": true
   },
   "outputs": [],
   "source": []
  },
  {
   "cell_type": "code",
   "execution_count": 1,
   "metadata": {
    "collapsed": true,
    "deletable": true,
    "editable": true
   },
   "outputs": [],
   "source": [
    "import h5py\n",
    "import numpy as np"
   ]
  },
  {
   "cell_type": "code",
   "execution_count": 2,
   "metadata": {
    "collapsed": true
   },
   "outputs": [],
   "source": [
    "with h5py.File(\"C:/Users/chris/Desktop/new-samples-v2/bkg1P_track_shuffle.h5\", \"r\") as f:\n",
    "    data = f[\"track\"][:100000]"
   ]
  },
  {
   "cell_type": "code",
   "execution_count": 16,
   "metadata": {
    "collapsed": false
   },
   "outputs": [],
   "source": [
    "arr = data[:2].view(np.float32).reshape(data[:2].shape + (-1,))"
   ]
  },
  {
   "cell_type": "code",
   "execution_count": 18,
   "metadata": {
    "collapsed": false
   },
   "outputs": [
    {
     "data": {
      "text/plain": [
       "array([[[  2.08374170e+03,  -3.20863997e-04,  -9.58538651e-01,\n",
       "          -1.11039031e+00,  -9.61318135e-01,  -9.01561916e-01,\n",
       "           3.07717018e+01,   5.27485684e-02,   2.73719013e-01,\n",
       "          -1.91410904e+01,   1.00000000e+00,   0.00000000e+00,\n",
       "           0.00000000e+00,   4.00000000e+00,   8.00000000e+00,\n",
       "           2.12322280e-01,   1.00000000e+00,   0.00000000e+00,\n",
       "           0.00000000e+00,   1.00000000e+00,  -1.00000000e+00],\n",
       "        [  1.48389319e+03,  -4.63529082e-04,  -9.19950724e-01,\n",
       "          -1.19019675e+00,  -9.27356482e-01,  -8.98515701e-01,\n",
       "           3.17065754e+01,  -1.33714564e-02,   3.29153866e-01,\n",
       "           8.13261223e+00,   2.00000000e+00,   0.00000000e+00,\n",
       "           0.00000000e+00,   5.00000000e+00,   1.20000000e+01,\n",
       "           4.77923423e-01,   1.00000000e+00,   0.00000000e+00,\n",
       "           0.00000000e+00,   1.00000000e+00,  -1.00000000e+00],\n",
       "        [  1.32519482e+03,   3.83599196e-04,  -1.29779446e+00,\n",
       "          -8.47036362e-01,  -1.32606184e+00,  -1.14729726e+00,\n",
       "          -5.07952309e+00,  -1.57161336e-02,   2.44209453e-01,\n",
       "          -8.33205414e+00,   1.00000000e+00,   0.00000000e+00,\n",
       "           0.00000000e+00,   4.00000000e+00,   1.10000000e+01,\n",
       "           9.17142510e-01,   1.00000000e+00,   0.00000000e+00,\n",
       "           0.00000000e+00,   1.00000000e+00,   1.00000000e+00],\n",
       "        [  1.10896680e+03,  -5.01152652e-04,  -1.19246471e+00,\n",
       "          -1.18956614e+00,  -1.23339689e+00,  -8.09861064e-01,\n",
       "          -1.89194363e-02,  -2.97816936e-02,   1.14307076e-01,\n",
       "           1.04923639e+01,   1.00000000e+00,   0.00000000e+00,\n",
       "           0.00000000e+00,   4.00000000e+00,   1.20000000e+01,\n",
       "           7.08713353e-01,   3.00000000e+00,   1.00000000e+00,\n",
       "           0.00000000e+00,   0.00000000e+00,  -1.00000000e+00],\n",
       "        [  1.10622742e+03,   3.76020995e-04,  -1.52393377e+00,\n",
       "          -1.24698663e+00,  -1.55527318e+00,  -1.56288290e+00,\n",
       "           1.93232441e+01,  -5.42708067e-03,   3.36468130e-01,\n",
       "          -4.47347212e+00,   1.00000000e+00,   0.00000000e+00,\n",
       "           0.00000000e+00,   4.00000000e+00,   1.20000000e+01,\n",
       "           9.65591848e-01,   1.00000000e+00,   0.00000000e+00,\n",
       "           0.00000000e+00,   1.00000000e+00,   1.00000000e+00],\n",
       "        [  1.09638635e+03,  -5.77027444e-04,  -1.03133178e+00,\n",
       "          -1.37378585e+00,  -1.07114303e+00,  -9.82601464e-01,\n",
       "          -6.42624187e+00,   6.84096664e-02,   3.53540599e-01,\n",
       "          -1.58117495e+01,   1.00000000e+00,   0.00000000e+00,\n",
       "           0.00000000e+00,   4.00000000e+00,   1.10000000e+01,\n",
       "           2.33009681e-01,   1.00000000e+00,   0.00000000e+00,\n",
       "           0.00000000e+00,   1.00000000e+00,  -1.00000000e+00],\n",
       "        [  8.05871399e+02,  -5.56988118e-04,  -1.43952322e+00,\n",
       "          -9.01497126e-01,  -1.49062693e+00,  -4.32486564e-01,\n",
       "           3.03758335e+01,  -1.72474980e-01,   2.75884867e-01,\n",
       "           2.15246105e+01,   1.00000000e+00,   0.00000000e+00,\n",
       "           0.00000000e+00,   4.00000000e+00,   1.40000000e+01,\n",
       "           4.70224380e-01,   1.00000000e+00,   0.00000000e+00,\n",
       "           0.00000000e+00,   1.00000000e+00,  -1.00000000e+00],\n",
       "        [  6.37384277e+02,  -9.36700206e-04,  -1.10478985e+00,\n",
       "          -1.03473878e+00,  -1.17808414e+00,  -3.51753414e-01,\n",
       "           1.91784840e+01,   3.69108990e-02,   1.34504557e-01,\n",
       "          -8.85558701e+00,   1.00000000e+00,   0.00000000e+00,\n",
       "           0.00000000e+00,   4.00000000e+00,   1.30000000e+01,\n",
       "           3.48379165e-01,   1.00000000e+00,   0.00000000e+00,\n",
       "           0.00000000e+00,   1.00000000e+00,  -1.00000000e+00],\n",
       "        [  6.19783203e+02,   9.34962765e-04,  -1.14171433e+00,\n",
       "          -1.43986201e+00,  -1.23534453e+00,  -2.16762686e+00,\n",
       "           6.74288750e+00,   4.39309025e+00,   3.68904561e-01,\n",
       "           9.52674103e+01,   0.00000000e+00,   0.00000000e+00,\n",
       "           0.00000000e+00,   2.00000000e+00,   8.00000000e+00,\n",
       "           6.99332058e-01,   1.00000000e+00,   0.00000000e+00,\n",
       "           0.00000000e+00,   1.00000000e+00,   1.00000000e+00],\n",
       "        [  6.14574036e+02,   9.80875338e-04,  -1.09274220e+00,\n",
       "          -1.13390934e+00,  -1.19546366e+00,  -1.89472711e+00,\n",
       "           1.95123940e+01,   5.38751930e-02,   1.47510469e-01,\n",
       "           1.05056009e+01,   1.00000000e+00,   0.00000000e+00,\n",
       "           0.00000000e+00,   4.00000000e+00,   1.20000000e+01,\n",
       "           3.78279477e-01,   1.00000000e+00,   0.00000000e+00,\n",
       "           0.00000000e+00,   1.00000000e+00,   1.00000000e+00],\n",
       "        [  5.69213379e+02,  -1.21678412e-03,  -9.10375655e-01,\n",
       "          -9.55610633e-01,  -9.98533368e-01,  -8.59037265e-02,\n",
       "           4.45369263e+01,   7.47141195e-03,   3.44371468e-01,\n",
       "          -3.76511526e+00,   1.00000000e+00,   0.00000000e+00,\n",
       "           0.00000000e+00,   5.00000000e+00,   1.30000000e+01,\n",
       "           5.36100984e-01,   1.00000000e+00,   0.00000000e+00,\n",
       "           0.00000000e+00,   1.00000000e+00,  -1.00000000e+00],\n",
       "        [  5.16288757e+02,   1.28657022e-03,  -9.67305481e-01,\n",
       "          -1.27631438e+00,  -1.08411622e+00,  -2.24183893e+00,\n",
       "           3.47326422e+00,  -1.06128328e-01,   3.27447444e-01,\n",
       "          -1.35145426e+01,   1.00000000e+00,   0.00000000e+00,\n",
       "           0.00000000e+00,   4.00000000e+00,   1.30000000e+01,\n",
       "           6.41228557e-01,   1.00000000e+00,   0.00000000e+00,\n",
       "           0.00000000e+00,   1.00000000e+00,   1.00000000e+00],\n",
       "        [  5.10934906e+02,  -1.25207962e-03,  -1.01689482e+00,\n",
       "          -9.85672772e-01,  -1.16040051e+00,  -2.14509834e-02,\n",
       "           9.01375771e+00,  -2.93025345e-01,   2.34509990e-01,\n",
       "           2.23395672e+01,   1.00000000e+00,   0.00000000e+00,\n",
       "           1.00000000e+00,   4.00000000e+00,   1.20000000e+01,\n",
       "           6.03021443e-01,   1.00000000e+00,   0.00000000e+00,\n",
       "           0.00000000e+00,   1.00000000e+00,  -1.00000000e+00],\n",
       "        [  4.87946533e+02,   8.28026561e-04,  -1.55584359e+00,\n",
       "          -8.03459048e-01,  -1.69643021e+00,  -1.46777081e+00,\n",
       "          -5.62181587e+01,  -6.81399965e+00,   4.28002089e-01,\n",
       "          -1.05275314e+02,   0.00000000e+00,   0.00000000e+00,\n",
       "           0.00000000e+00,   0.00000000e+00,   1.00000000e+01,\n",
       "           2.07588315e-01,   1.00000000e+00,   0.00000000e+00,\n",
       "           0.00000000e+00,   1.00000000e+00,   1.00000000e+00],\n",
       "        [  4.70242859e+02,  -1.02639711e-03,  -1.35749185e+00,\n",
       "          -7.00380385e-01,  -1.54074752e+00,   2.41921246e-01,\n",
       "           6.32740402e+01,  -6.93732426e-02,   4.01984423e-01,\n",
       "           1.04278908e+01,   1.00000000e+00,   0.00000000e+00,\n",
       "           0.00000000e+00,   4.00000000e+00,   1.50000000e+01,\n",
       "           5.54945767e-01,   1.00000000e+00,   0.00000000e+00,\n",
       "           0.00000000e+00,   1.00000000e+00,  -1.00000000e+00],\n",
       "        [  0.00000000e+00,   0.00000000e+00,   0.00000000e+00,\n",
       "           0.00000000e+00,   0.00000000e+00,   0.00000000e+00,\n",
       "           0.00000000e+00,   0.00000000e+00,   0.00000000e+00,\n",
       "           0.00000000e+00,   0.00000000e+00,   0.00000000e+00,\n",
       "           0.00000000e+00,   0.00000000e+00,   0.00000000e+00,\n",
       "           0.00000000e+00,   0.00000000e+00,   0.00000000e+00,\n",
       "           0.00000000e+00,   0.00000000e+00,   0.00000000e+00],\n",
       "        [  0.00000000e+00,   0.00000000e+00,   0.00000000e+00,\n",
       "           0.00000000e+00,   0.00000000e+00,   0.00000000e+00,\n",
       "           0.00000000e+00,   0.00000000e+00,   0.00000000e+00,\n",
       "           0.00000000e+00,   0.00000000e+00,   0.00000000e+00,\n",
       "           0.00000000e+00,   0.00000000e+00,   0.00000000e+00,\n",
       "           0.00000000e+00,   0.00000000e+00,   0.00000000e+00,\n",
       "           0.00000000e+00,   0.00000000e+00,   0.00000000e+00],\n",
       "        [  0.00000000e+00,   0.00000000e+00,   0.00000000e+00,\n",
       "           0.00000000e+00,   0.00000000e+00,   0.00000000e+00,\n",
       "           0.00000000e+00,   0.00000000e+00,   0.00000000e+00,\n",
       "           0.00000000e+00,   0.00000000e+00,   0.00000000e+00,\n",
       "           0.00000000e+00,   0.00000000e+00,   0.00000000e+00,\n",
       "           0.00000000e+00,   0.00000000e+00,   0.00000000e+00,\n",
       "           0.00000000e+00,   0.00000000e+00,   0.00000000e+00],\n",
       "        [  0.00000000e+00,   0.00000000e+00,   0.00000000e+00,\n",
       "           0.00000000e+00,   0.00000000e+00,   0.00000000e+00,\n",
       "           0.00000000e+00,   0.00000000e+00,   0.00000000e+00,\n",
       "           0.00000000e+00,   0.00000000e+00,   0.00000000e+00,\n",
       "           0.00000000e+00,   0.00000000e+00,   0.00000000e+00,\n",
       "           0.00000000e+00,   0.00000000e+00,   0.00000000e+00,\n",
       "           0.00000000e+00,   0.00000000e+00,   0.00000000e+00],\n",
       "        [  0.00000000e+00,   0.00000000e+00,   0.00000000e+00,\n",
       "           0.00000000e+00,   0.00000000e+00,   0.00000000e+00,\n",
       "           0.00000000e+00,   0.00000000e+00,   0.00000000e+00,\n",
       "           0.00000000e+00,   0.00000000e+00,   0.00000000e+00,\n",
       "           0.00000000e+00,   0.00000000e+00,   0.00000000e+00,\n",
       "           0.00000000e+00,   0.00000000e+00,   0.00000000e+00,\n",
       "           0.00000000e+00,   0.00000000e+00,   0.00000000e+00]],\n",
       "\n",
       "       [[  5.17826445e+04,  -1.17792351e-05,  -1.07793546e+00,\n",
       "           2.31551141e-01,  -1.06340802e+00,   2.39353955e-01,\n",
       "          -7.96933286e-03,   1.58859659e-02,   1.24083618e-02,\n",
       "          -5.23646622e+01,   1.00000000e+00,   0.00000000e+00,\n",
       "           0.00000000e+00,   4.00000000e+00,   1.40000000e+01,\n",
       "           8.46101582e-01,   3.00000000e+00,   1.00000000e+00,\n",
       "           0.00000000e+00,   0.00000000e+00,  -1.00000000e+00],\n",
       "        [  4.75495752e+03,   1.49174157e-04,  -8.76953661e-01,\n",
       "           5.26419759e-01,  -8.61312270e-01,   4.35529232e-01,\n",
       "          -1.35372607e-02,   4.75019962e-03,   3.46226037e-01,\n",
       "           8.67698097e+00,   1.00000000e+00,   0.00000000e+00,\n",
       "           0.00000000e+00,   4.00000000e+00,   1.30000000e+01,\n",
       "           7.23378539e-01,   1.00000000e+00,   0.00000000e+00,\n",
       "           0.00000000e+00,   1.00000000e+00,   1.00000000e+00],\n",
       "        [  4.49890332e+03,   1.35986527e-04,  -1.07415116e+00,\n",
       "           1.79237843e-01,  -1.06405210e+00,   8.67440477e-02,\n",
       "          -4.66010189e+00,   9.16267991e-01,   6.47650585e-02,\n",
       "           1.17220604e+02,   0.00000000e+00,   0.00000000e+00,\n",
       "           0.00000000e+00,   0.00000000e+00,   8.00000000e+00,\n",
       "           5.13581522e-02,   2.00000000e+00,   0.00000000e+00,\n",
       "           1.00000000e+00,   0.00000000e+00,   1.00000000e+00],\n",
       "        [  2.39165845e+03,   2.98104685e-04,  -8.69657397e-01,\n",
       "           5.24109483e-01,  -8.56712461e-01,   3.42151761e-01,\n",
       "           5.79550266e-02,  -3.04359999e-02,   3.48636001e-01,\n",
       "          -1.55769615e+01,   1.00000000e+00,   0.00000000e+00,\n",
       "           0.00000000e+00,   4.00000000e+00,   1.20000000e+01,\n",
       "           6.06740952e-01,   1.00000000e+00,   0.00000000e+00,\n",
       "           0.00000000e+00,   1.00000000e+00,   1.00000000e+00],\n",
       "        [  1.70750696e+03,  -3.21780622e-04,  -1.20618486e+00,\n",
       "           1.66224107e-01,  -1.19217837e+00,   4.08485115e-01,\n",
       "           1.49528866e+01,  -2.72684693e+00,   1.50637165e-01,\n",
       "           1.24580765e+02,   0.00000000e+00,   0.00000000e+00,\n",
       "           0.00000000e+00,   0.00000000e+00,   1.00000000e+01,\n",
       "           1.26671595e-02,   2.00000000e+00,   0.00000000e+00,\n",
       "           1.00000000e+00,   0.00000000e+00,  -1.00000000e+00],\n",
       "        [  4.25102448e+02,   1.57565123e-03,  -9.56094325e-01,\n",
       "           4.63200510e-01,  -1.25409722e+00,  -9.27483141e-01,\n",
       "          -6.50085032e-01,  -2.53901761e-02,   2.50458986e-01,\n",
       "          -5.99817371e+00,   1.00000000e+00,   0.00000000e+00,\n",
       "           0.00000000e+00,   5.00000000e+00,   1.10000000e+01,\n",
       "           5.00000000e-01,   1.00000000e+00,   0.00000000e+00,\n",
       "           0.00000000e+00,   1.00000000e+00,   1.00000000e+00],\n",
       "        [  0.00000000e+00,   0.00000000e+00,   0.00000000e+00,\n",
       "           0.00000000e+00,   0.00000000e+00,   0.00000000e+00,\n",
       "           0.00000000e+00,   0.00000000e+00,   0.00000000e+00,\n",
       "           0.00000000e+00,   0.00000000e+00,   0.00000000e+00,\n",
       "           0.00000000e+00,   0.00000000e+00,   0.00000000e+00,\n",
       "           0.00000000e+00,   0.00000000e+00,   0.00000000e+00,\n",
       "           0.00000000e+00,   0.00000000e+00,   0.00000000e+00],\n",
       "        [  0.00000000e+00,   0.00000000e+00,   0.00000000e+00,\n",
       "           0.00000000e+00,   0.00000000e+00,   0.00000000e+00,\n",
       "           0.00000000e+00,   0.00000000e+00,   0.00000000e+00,\n",
       "           0.00000000e+00,   0.00000000e+00,   0.00000000e+00,\n",
       "           0.00000000e+00,   0.00000000e+00,   0.00000000e+00,\n",
       "           0.00000000e+00,   0.00000000e+00,   0.00000000e+00,\n",
       "           0.00000000e+00,   0.00000000e+00,   0.00000000e+00],\n",
       "        [  0.00000000e+00,   0.00000000e+00,   0.00000000e+00,\n",
       "           0.00000000e+00,   0.00000000e+00,   0.00000000e+00,\n",
       "           0.00000000e+00,   0.00000000e+00,   0.00000000e+00,\n",
       "           0.00000000e+00,   0.00000000e+00,   0.00000000e+00,\n",
       "           0.00000000e+00,   0.00000000e+00,   0.00000000e+00,\n",
       "           0.00000000e+00,   0.00000000e+00,   0.00000000e+00,\n",
       "           0.00000000e+00,   0.00000000e+00,   0.00000000e+00],\n",
       "        [  0.00000000e+00,   0.00000000e+00,   0.00000000e+00,\n",
       "           0.00000000e+00,   0.00000000e+00,   0.00000000e+00,\n",
       "           0.00000000e+00,   0.00000000e+00,   0.00000000e+00,\n",
       "           0.00000000e+00,   0.00000000e+00,   0.00000000e+00,\n",
       "           0.00000000e+00,   0.00000000e+00,   0.00000000e+00,\n",
       "           0.00000000e+00,   0.00000000e+00,   0.00000000e+00,\n",
       "           0.00000000e+00,   0.00000000e+00,   0.00000000e+00],\n",
       "        [  0.00000000e+00,   0.00000000e+00,   0.00000000e+00,\n",
       "           0.00000000e+00,   0.00000000e+00,   0.00000000e+00,\n",
       "           0.00000000e+00,   0.00000000e+00,   0.00000000e+00,\n",
       "           0.00000000e+00,   0.00000000e+00,   0.00000000e+00,\n",
       "           0.00000000e+00,   0.00000000e+00,   0.00000000e+00,\n",
       "           0.00000000e+00,   0.00000000e+00,   0.00000000e+00,\n",
       "           0.00000000e+00,   0.00000000e+00,   0.00000000e+00],\n",
       "        [  0.00000000e+00,   0.00000000e+00,   0.00000000e+00,\n",
       "           0.00000000e+00,   0.00000000e+00,   0.00000000e+00,\n",
       "           0.00000000e+00,   0.00000000e+00,   0.00000000e+00,\n",
       "           0.00000000e+00,   0.00000000e+00,   0.00000000e+00,\n",
       "           0.00000000e+00,   0.00000000e+00,   0.00000000e+00,\n",
       "           0.00000000e+00,   0.00000000e+00,   0.00000000e+00,\n",
       "           0.00000000e+00,   0.00000000e+00,   0.00000000e+00],\n",
       "        [  0.00000000e+00,   0.00000000e+00,   0.00000000e+00,\n",
       "           0.00000000e+00,   0.00000000e+00,   0.00000000e+00,\n",
       "           0.00000000e+00,   0.00000000e+00,   0.00000000e+00,\n",
       "           0.00000000e+00,   0.00000000e+00,   0.00000000e+00,\n",
       "           0.00000000e+00,   0.00000000e+00,   0.00000000e+00,\n",
       "           0.00000000e+00,   0.00000000e+00,   0.00000000e+00,\n",
       "           0.00000000e+00,   0.00000000e+00,   0.00000000e+00],\n",
       "        [  0.00000000e+00,   0.00000000e+00,   0.00000000e+00,\n",
       "           0.00000000e+00,   0.00000000e+00,   0.00000000e+00,\n",
       "           0.00000000e+00,   0.00000000e+00,   0.00000000e+00,\n",
       "           0.00000000e+00,   0.00000000e+00,   0.00000000e+00,\n",
       "           0.00000000e+00,   0.00000000e+00,   0.00000000e+00,\n",
       "           0.00000000e+00,   0.00000000e+00,   0.00000000e+00,\n",
       "           0.00000000e+00,   0.00000000e+00,   0.00000000e+00],\n",
       "        [  0.00000000e+00,   0.00000000e+00,   0.00000000e+00,\n",
       "           0.00000000e+00,   0.00000000e+00,   0.00000000e+00,\n",
       "           0.00000000e+00,   0.00000000e+00,   0.00000000e+00,\n",
       "           0.00000000e+00,   0.00000000e+00,   0.00000000e+00,\n",
       "           0.00000000e+00,   0.00000000e+00,   0.00000000e+00,\n",
       "           0.00000000e+00,   0.00000000e+00,   0.00000000e+00,\n",
       "           0.00000000e+00,   0.00000000e+00,   0.00000000e+00],\n",
       "        [  0.00000000e+00,   0.00000000e+00,   0.00000000e+00,\n",
       "           0.00000000e+00,   0.00000000e+00,   0.00000000e+00,\n",
       "           0.00000000e+00,   0.00000000e+00,   0.00000000e+00,\n",
       "           0.00000000e+00,   0.00000000e+00,   0.00000000e+00,\n",
       "           0.00000000e+00,   0.00000000e+00,   0.00000000e+00,\n",
       "           0.00000000e+00,   0.00000000e+00,   0.00000000e+00,\n",
       "           0.00000000e+00,   0.00000000e+00,   0.00000000e+00],\n",
       "        [  0.00000000e+00,   0.00000000e+00,   0.00000000e+00,\n",
       "           0.00000000e+00,   0.00000000e+00,   0.00000000e+00,\n",
       "           0.00000000e+00,   0.00000000e+00,   0.00000000e+00,\n",
       "           0.00000000e+00,   0.00000000e+00,   0.00000000e+00,\n",
       "           0.00000000e+00,   0.00000000e+00,   0.00000000e+00,\n",
       "           0.00000000e+00,   0.00000000e+00,   0.00000000e+00,\n",
       "           0.00000000e+00,   0.00000000e+00,   0.00000000e+00],\n",
       "        [  0.00000000e+00,   0.00000000e+00,   0.00000000e+00,\n",
       "           0.00000000e+00,   0.00000000e+00,   0.00000000e+00,\n",
       "           0.00000000e+00,   0.00000000e+00,   0.00000000e+00,\n",
       "           0.00000000e+00,   0.00000000e+00,   0.00000000e+00,\n",
       "           0.00000000e+00,   0.00000000e+00,   0.00000000e+00,\n",
       "           0.00000000e+00,   0.00000000e+00,   0.00000000e+00,\n",
       "           0.00000000e+00,   0.00000000e+00,   0.00000000e+00],\n",
       "        [  0.00000000e+00,   0.00000000e+00,   0.00000000e+00,\n",
       "           0.00000000e+00,   0.00000000e+00,   0.00000000e+00,\n",
       "           0.00000000e+00,   0.00000000e+00,   0.00000000e+00,\n",
       "           0.00000000e+00,   0.00000000e+00,   0.00000000e+00,\n",
       "           0.00000000e+00,   0.00000000e+00,   0.00000000e+00,\n",
       "           0.00000000e+00,   0.00000000e+00,   0.00000000e+00,\n",
       "           0.00000000e+00,   0.00000000e+00,   0.00000000e+00],\n",
       "        [  0.00000000e+00,   0.00000000e+00,   0.00000000e+00,\n",
       "           0.00000000e+00,   0.00000000e+00,   0.00000000e+00,\n",
       "           0.00000000e+00,   0.00000000e+00,   0.00000000e+00,\n",
       "           0.00000000e+00,   0.00000000e+00,   0.00000000e+00,\n",
       "           0.00000000e+00,   0.00000000e+00,   0.00000000e+00,\n",
       "           0.00000000e+00,   0.00000000e+00,   0.00000000e+00,\n",
       "           0.00000000e+00,   0.00000000e+00,   0.00000000e+00]]], dtype=float32)"
      ]
     },
     "execution_count": 18,
     "metadata": {},
     "output_type": "execute_result"
    }
   ],
   "source": [
    "arr"
   ]
  },
  {
   "cell_type": "code",
   "execution_count": 24,
   "metadata": {
    "collapsed": false
   },
   "outputs": [
    {
     "data": {
      "text/plain": [
       "array([[[False, False, False, False, False, False, False, False, False,\n",
       "         False, False,  True,  True, False, False, False, False,  True,\n",
       "          True, False, False],\n",
       "        [False, False, False, False, False, False, False, False, False,\n",
       "         False, False,  True,  True, False, False, False, False,  True,\n",
       "          True, False, False],\n",
       "        [False, False, False, False, False, False, False, False, False,\n",
       "         False, False,  True,  True, False, False, False, False,  True,\n",
       "          True, False, False],\n",
       "        [False, False, False, False, False, False, False, False, False,\n",
       "         False, False,  True,  True, False, False, False, False, False,\n",
       "          True,  True, False],\n",
       "        [False, False, False, False, False, False, False, False, False,\n",
       "         False, False,  True,  True, False, False, False, False,  True,\n",
       "          True, False, False],\n",
       "        [False, False, False, False, False, False, False, False, False,\n",
       "         False, False,  True,  True, False, False, False, False,  True,\n",
       "          True, False, False],\n",
       "        [False, False, False, False, False, False, False, False, False,\n",
       "         False, False,  True,  True, False, False, False, False,  True,\n",
       "          True, False, False],\n",
       "        [False, False, False, False, False, False, False, False, False,\n",
       "         False, False,  True,  True, False, False, False, False,  True,\n",
       "          True, False, False],\n",
       "        [False, False, False, False, False, False, False, False, False,\n",
       "         False,  True,  True,  True, False, False, False, False,  True,\n",
       "          True, False, False],\n",
       "        [False, False, False, False, False, False, False, False, False,\n",
       "         False, False,  True,  True, False, False, False, False,  True,\n",
       "          True, False, False],\n",
       "        [False, False, False, False, False, False, False, False, False,\n",
       "         False, False,  True,  True, False, False, False, False,  True,\n",
       "          True, False, False],\n",
       "        [False, False, False, False, False, False, False, False, False,\n",
       "         False, False,  True,  True, False, False, False, False,  True,\n",
       "          True, False, False],\n",
       "        [False, False, False, False, False, False, False, False, False,\n",
       "         False, False,  True, False, False, False, False, False,  True,\n",
       "          True, False, False],\n",
       "        [False, False, False, False, False, False, False, False, False,\n",
       "         False,  True,  True,  True,  True, False, False, False,  True,\n",
       "          True, False, False],\n",
       "        [False, False, False, False, False, False, False, False, False,\n",
       "         False, False,  True,  True, False, False, False, False,  True,\n",
       "          True, False, False],\n",
       "        [ True,  True,  True,  True,  True,  True,  True,  True,  True,\n",
       "          True,  True,  True,  True,  True,  True,  True,  True,  True,\n",
       "          True,  True,  True],\n",
       "        [ True,  True,  True,  True,  True,  True,  True,  True,  True,\n",
       "          True,  True,  True,  True,  True,  True,  True,  True,  True,\n",
       "          True,  True,  True],\n",
       "        [ True,  True,  True,  True,  True,  True,  True,  True,  True,\n",
       "          True,  True,  True,  True,  True,  True,  True,  True,  True,\n",
       "          True,  True,  True],\n",
       "        [ True,  True,  True,  True,  True,  True,  True,  True,  True,\n",
       "          True,  True,  True,  True,  True,  True,  True,  True,  True,\n",
       "          True,  True,  True],\n",
       "        [ True,  True,  True,  True,  True,  True,  True,  True,  True,\n",
       "          True,  True,  True,  True,  True,  True,  True,  True,  True,\n",
       "          True,  True,  True]],\n",
       "\n",
       "       [[False, False, False, False, False, False, False, False, False,\n",
       "         False, False,  True,  True, False, False, False, False, False,\n",
       "          True,  True, False],\n",
       "        [False, False, False, False, False, False, False, False, False,\n",
       "         False, False,  True,  True, False, False, False, False,  True,\n",
       "          True, False, False],\n",
       "        [False, False, False, False, False, False, False, False, False,\n",
       "         False,  True,  True,  True,  True, False, False, False,  True,\n",
       "         False,  True, False],\n",
       "        [False, False, False, False, False, False, False, False, False,\n",
       "         False, False,  True,  True, False, False, False, False,  True,\n",
       "          True, False, False],\n",
       "        [False, False, False, False, False, False, False, False, False,\n",
       "         False,  True,  True,  True,  True, False, False, False,  True,\n",
       "         False,  True, False],\n",
       "        [False, False, False, False, False, False, False, False, False,\n",
       "         False, False,  True,  True, False, False, False, False,  True,\n",
       "          True, False, False],\n",
       "        [ True,  True,  True,  True,  True,  True,  True,  True,  True,\n",
       "          True,  True,  True,  True,  True,  True,  True,  True,  True,\n",
       "          True,  True,  True],\n",
       "        [ True,  True,  True,  True,  True,  True,  True,  True,  True,\n",
       "          True,  True,  True,  True,  True,  True,  True,  True,  True,\n",
       "          True,  True,  True],\n",
       "        [ True,  True,  True,  True,  True,  True,  True,  True,  True,\n",
       "          True,  True,  True,  True,  True,  True,  True,  True,  True,\n",
       "          True,  True,  True],\n",
       "        [ True,  True,  True,  True,  True,  True,  True,  True,  True,\n",
       "          True,  True,  True,  True,  True,  True,  True,  True,  True,\n",
       "          True,  True,  True],\n",
       "        [ True,  True,  True,  True,  True,  True,  True,  True,  True,\n",
       "          True,  True,  True,  True,  True,  True,  True,  True,  True,\n",
       "          True,  True,  True],\n",
       "        [ True,  True,  True,  True,  True,  True,  True,  True,  True,\n",
       "          True,  True,  True,  True,  True,  True,  True,  True,  True,\n",
       "          True,  True,  True],\n",
       "        [ True,  True,  True,  True,  True,  True,  True,  True,  True,\n",
       "          True,  True,  True,  True,  True,  True,  True,  True,  True,\n",
       "          True,  True,  True],\n",
       "        [ True,  True,  True,  True,  True,  True,  True,  True,  True,\n",
       "          True,  True,  True,  True,  True,  True,  True,  True,  True,\n",
       "          True,  True,  True],\n",
       "        [ True,  True,  True,  True,  True,  True,  True,  True,  True,\n",
       "          True,  True,  True,  True,  True,  True,  True,  True,  True,\n",
       "          True,  True,  True],\n",
       "        [ True,  True,  True,  True,  True,  True,  True,  True,  True,\n",
       "          True,  True,  True,  True,  True,  True,  True,  True,  True,\n",
       "          True,  True,  True],\n",
       "        [ True,  True,  True,  True,  True,  True,  True,  True,  True,\n",
       "          True,  True,  True,  True,  True,  True,  True,  True,  True,\n",
       "          True,  True,  True],\n",
       "        [ True,  True,  True,  True,  True,  True,  True,  True,  True,\n",
       "          True,  True,  True,  True,  True,  True,  True,  True,  True,\n",
       "          True,  True,  True],\n",
       "        [ True,  True,  True,  True,  True,  True,  True,  True,  True,\n",
       "          True,  True,  True,  True,  True,  True,  True,  True,  True,\n",
       "          True,  True,  True],\n",
       "        [ True,  True,  True,  True,  True,  True,  True,  True,  True,\n",
       "          True,  True,  True,  True,  True,  True,  True,  True,  True,\n",
       "          True,  True,  True]]], dtype=bool)"
      ]
     },
     "execution_count": 24,
     "metadata": {},
     "output_type": "execute_result"
    }
   ],
   "source": [
    "neq = np.equal(arr, 0)\n",
    "neq"
   ]
  },
  {
   "cell_type": "code",
   "execution_count": 29,
   "metadata": {
    "collapsed": false
   },
   "outputs": [
    {
     "data": {
      "text/plain": [
       "(2, 20, 21)"
      ]
     },
     "execution_count": 29,
     "metadata": {},
     "output_type": "execute_result"
    }
   ],
   "source": [
    "neq.shape"
   ]
  },
  {
   "cell_type": "code",
   "execution_count": 38,
   "metadata": {
    "collapsed": false
   },
   "outputs": [
    {
     "data": {
      "text/plain": [
       "array([[[False],\n",
       "        [False],\n",
       "        [False],\n",
       "        [False],\n",
       "        [False],\n",
       "        [False],\n",
       "        [False],\n",
       "        [False],\n",
       "        [False],\n",
       "        [False],\n",
       "        [False],\n",
       "        [False],\n",
       "        [False],\n",
       "        [False],\n",
       "        [False],\n",
       "        [ True],\n",
       "        [ True],\n",
       "        [ True],\n",
       "        [ True],\n",
       "        [ True]],\n",
       "\n",
       "       [[False],\n",
       "        [False],\n",
       "        [False],\n",
       "        [False],\n",
       "        [False],\n",
       "        [False],\n",
       "        [ True],\n",
       "        [ True],\n",
       "        [ True],\n",
       "        [ True],\n",
       "        [ True],\n",
       "        [ True],\n",
       "        [ True],\n",
       "        [ True],\n",
       "        [ True],\n",
       "        [ True],\n",
       "        [ True],\n",
       "        [ True],\n",
       "        [ True],\n",
       "        [ True]]], dtype=bool)"
      ]
     },
     "execution_count": 38,
     "metadata": {},
     "output_type": "execute_result"
    }
   ],
   "source": [
    "a = np.all(neq, axis=2, keepdims=True)\n",
    "a"
   ]
  },
  {
   "cell_type": "code",
   "execution_count": 39,
   "metadata": {
    "collapsed": false
   },
   "outputs": [
    {
     "data": {
      "text/plain": [
       "(2, 20, 1)"
      ]
     },
     "execution_count": 39,
     "metadata": {},
     "output_type": "execute_result"
    }
   ],
   "source": [
    "a.shape"
   ]
  },
  {
   "cell_type": "code",
   "execution_count": 42,
   "metadata": {
    "collapsed": false
   },
   "outputs": [],
   "source": [
    "mask = np.broadcast_to(a, arr.shape)"
   ]
  },
  {
   "cell_type": "code",
   "execution_count": 44,
   "metadata": {
    "collapsed": false
   },
   "outputs": [],
   "source": [
    "arr[mask] = np.nan"
   ]
  },
  {
   "cell_type": "code",
   "execution_count": 45,
   "metadata": {
    "collapsed": false
   },
   "outputs": [
    {
     "data": {
      "text/plain": [
       "array([[[  2.08374170e+03,  -3.20863997e-04,  -9.58538651e-01,\n",
       "          -1.11039031e+00,  -9.61318135e-01,  -9.01561916e-01,\n",
       "           3.07717018e+01,   5.27485684e-02,   2.73719013e-01,\n",
       "          -1.91410904e+01,   1.00000000e+00,   0.00000000e+00,\n",
       "           0.00000000e+00,   4.00000000e+00,   8.00000000e+00,\n",
       "           2.12322280e-01,   1.00000000e+00,   0.00000000e+00,\n",
       "           0.00000000e+00,   1.00000000e+00,  -1.00000000e+00],\n",
       "        [  1.48389319e+03,  -4.63529082e-04,  -9.19950724e-01,\n",
       "          -1.19019675e+00,  -9.27356482e-01,  -8.98515701e-01,\n",
       "           3.17065754e+01,  -1.33714564e-02,   3.29153866e-01,\n",
       "           8.13261223e+00,   2.00000000e+00,   0.00000000e+00,\n",
       "           0.00000000e+00,   5.00000000e+00,   1.20000000e+01,\n",
       "           4.77923423e-01,   1.00000000e+00,   0.00000000e+00,\n",
       "           0.00000000e+00,   1.00000000e+00,  -1.00000000e+00],\n",
       "        [  1.32519482e+03,   3.83599196e-04,  -1.29779446e+00,\n",
       "          -8.47036362e-01,  -1.32606184e+00,  -1.14729726e+00,\n",
       "          -5.07952309e+00,  -1.57161336e-02,   2.44209453e-01,\n",
       "          -8.33205414e+00,   1.00000000e+00,   0.00000000e+00,\n",
       "           0.00000000e+00,   4.00000000e+00,   1.10000000e+01,\n",
       "           9.17142510e-01,   1.00000000e+00,   0.00000000e+00,\n",
       "           0.00000000e+00,   1.00000000e+00,   1.00000000e+00],\n",
       "        [  1.10896680e+03,  -5.01152652e-04,  -1.19246471e+00,\n",
       "          -1.18956614e+00,  -1.23339689e+00,  -8.09861064e-01,\n",
       "          -1.89194363e-02,  -2.97816936e-02,   1.14307076e-01,\n",
       "           1.04923639e+01,   1.00000000e+00,   0.00000000e+00,\n",
       "           0.00000000e+00,   4.00000000e+00,   1.20000000e+01,\n",
       "           7.08713353e-01,   3.00000000e+00,   1.00000000e+00,\n",
       "           0.00000000e+00,   0.00000000e+00,  -1.00000000e+00],\n",
       "        [  1.10622742e+03,   3.76020995e-04,  -1.52393377e+00,\n",
       "          -1.24698663e+00,  -1.55527318e+00,  -1.56288290e+00,\n",
       "           1.93232441e+01,  -5.42708067e-03,   3.36468130e-01,\n",
       "          -4.47347212e+00,   1.00000000e+00,   0.00000000e+00,\n",
       "           0.00000000e+00,   4.00000000e+00,   1.20000000e+01,\n",
       "           9.65591848e-01,   1.00000000e+00,   0.00000000e+00,\n",
       "           0.00000000e+00,   1.00000000e+00,   1.00000000e+00],\n",
       "        [  1.09638635e+03,  -5.77027444e-04,  -1.03133178e+00,\n",
       "          -1.37378585e+00,  -1.07114303e+00,  -9.82601464e-01,\n",
       "          -6.42624187e+00,   6.84096664e-02,   3.53540599e-01,\n",
       "          -1.58117495e+01,   1.00000000e+00,   0.00000000e+00,\n",
       "           0.00000000e+00,   4.00000000e+00,   1.10000000e+01,\n",
       "           2.33009681e-01,   1.00000000e+00,   0.00000000e+00,\n",
       "           0.00000000e+00,   1.00000000e+00,  -1.00000000e+00],\n",
       "        [  8.05871399e+02,  -5.56988118e-04,  -1.43952322e+00,\n",
       "          -9.01497126e-01,  -1.49062693e+00,  -4.32486564e-01,\n",
       "           3.03758335e+01,  -1.72474980e-01,   2.75884867e-01,\n",
       "           2.15246105e+01,   1.00000000e+00,   0.00000000e+00,\n",
       "           0.00000000e+00,   4.00000000e+00,   1.40000000e+01,\n",
       "           4.70224380e-01,   1.00000000e+00,   0.00000000e+00,\n",
       "           0.00000000e+00,   1.00000000e+00,  -1.00000000e+00],\n",
       "        [  6.37384277e+02,  -9.36700206e-04,  -1.10478985e+00,\n",
       "          -1.03473878e+00,  -1.17808414e+00,  -3.51753414e-01,\n",
       "           1.91784840e+01,   3.69108990e-02,   1.34504557e-01,\n",
       "          -8.85558701e+00,   1.00000000e+00,   0.00000000e+00,\n",
       "           0.00000000e+00,   4.00000000e+00,   1.30000000e+01,\n",
       "           3.48379165e-01,   1.00000000e+00,   0.00000000e+00,\n",
       "           0.00000000e+00,   1.00000000e+00,  -1.00000000e+00],\n",
       "        [  6.19783203e+02,   9.34962765e-04,  -1.14171433e+00,\n",
       "          -1.43986201e+00,  -1.23534453e+00,  -2.16762686e+00,\n",
       "           6.74288750e+00,   4.39309025e+00,   3.68904561e-01,\n",
       "           9.52674103e+01,   0.00000000e+00,   0.00000000e+00,\n",
       "           0.00000000e+00,   2.00000000e+00,   8.00000000e+00,\n",
       "           6.99332058e-01,   1.00000000e+00,   0.00000000e+00,\n",
       "           0.00000000e+00,   1.00000000e+00,   1.00000000e+00],\n",
       "        [  6.14574036e+02,   9.80875338e-04,  -1.09274220e+00,\n",
       "          -1.13390934e+00,  -1.19546366e+00,  -1.89472711e+00,\n",
       "           1.95123940e+01,   5.38751930e-02,   1.47510469e-01,\n",
       "           1.05056009e+01,   1.00000000e+00,   0.00000000e+00,\n",
       "           0.00000000e+00,   4.00000000e+00,   1.20000000e+01,\n",
       "           3.78279477e-01,   1.00000000e+00,   0.00000000e+00,\n",
       "           0.00000000e+00,   1.00000000e+00,   1.00000000e+00],\n",
       "        [  5.69213379e+02,  -1.21678412e-03,  -9.10375655e-01,\n",
       "          -9.55610633e-01,  -9.98533368e-01,  -8.59037265e-02,\n",
       "           4.45369263e+01,   7.47141195e-03,   3.44371468e-01,\n",
       "          -3.76511526e+00,   1.00000000e+00,   0.00000000e+00,\n",
       "           0.00000000e+00,   5.00000000e+00,   1.30000000e+01,\n",
       "           5.36100984e-01,   1.00000000e+00,   0.00000000e+00,\n",
       "           0.00000000e+00,   1.00000000e+00,  -1.00000000e+00],\n",
       "        [  5.16288757e+02,   1.28657022e-03,  -9.67305481e-01,\n",
       "          -1.27631438e+00,  -1.08411622e+00,  -2.24183893e+00,\n",
       "           3.47326422e+00,  -1.06128328e-01,   3.27447444e-01,\n",
       "          -1.35145426e+01,   1.00000000e+00,   0.00000000e+00,\n",
       "           0.00000000e+00,   4.00000000e+00,   1.30000000e+01,\n",
       "           6.41228557e-01,   1.00000000e+00,   0.00000000e+00,\n",
       "           0.00000000e+00,   1.00000000e+00,   1.00000000e+00],\n",
       "        [  5.10934906e+02,  -1.25207962e-03,  -1.01689482e+00,\n",
       "          -9.85672772e-01,  -1.16040051e+00,  -2.14509834e-02,\n",
       "           9.01375771e+00,  -2.93025345e-01,   2.34509990e-01,\n",
       "           2.23395672e+01,   1.00000000e+00,   0.00000000e+00,\n",
       "           1.00000000e+00,   4.00000000e+00,   1.20000000e+01,\n",
       "           6.03021443e-01,   1.00000000e+00,   0.00000000e+00,\n",
       "           0.00000000e+00,   1.00000000e+00,  -1.00000000e+00],\n",
       "        [  4.87946533e+02,   8.28026561e-04,  -1.55584359e+00,\n",
       "          -8.03459048e-01,  -1.69643021e+00,  -1.46777081e+00,\n",
       "          -5.62181587e+01,  -6.81399965e+00,   4.28002089e-01,\n",
       "          -1.05275314e+02,   0.00000000e+00,   0.00000000e+00,\n",
       "           0.00000000e+00,   0.00000000e+00,   1.00000000e+01,\n",
       "           2.07588315e-01,   1.00000000e+00,   0.00000000e+00,\n",
       "           0.00000000e+00,   1.00000000e+00,   1.00000000e+00],\n",
       "        [  4.70242859e+02,  -1.02639711e-03,  -1.35749185e+00,\n",
       "          -7.00380385e-01,  -1.54074752e+00,   2.41921246e-01,\n",
       "           6.32740402e+01,  -6.93732426e-02,   4.01984423e-01,\n",
       "           1.04278908e+01,   1.00000000e+00,   0.00000000e+00,\n",
       "           0.00000000e+00,   4.00000000e+00,   1.50000000e+01,\n",
       "           5.54945767e-01,   1.00000000e+00,   0.00000000e+00,\n",
       "           0.00000000e+00,   1.00000000e+00,  -1.00000000e+00],\n",
       "        [             nan,              nan,              nan,\n",
       "                      nan,              nan,              nan,\n",
       "                      nan,              nan,              nan,\n",
       "                      nan,              nan,              nan,\n",
       "                      nan,              nan,              nan,\n",
       "                      nan,              nan,              nan,\n",
       "                      nan,              nan,              nan],\n",
       "        [             nan,              nan,              nan,\n",
       "                      nan,              nan,              nan,\n",
       "                      nan,              nan,              nan,\n",
       "                      nan,              nan,              nan,\n",
       "                      nan,              nan,              nan,\n",
       "                      nan,              nan,              nan,\n",
       "                      nan,              nan,              nan],\n",
       "        [             nan,              nan,              nan,\n",
       "                      nan,              nan,              nan,\n",
       "                      nan,              nan,              nan,\n",
       "                      nan,              nan,              nan,\n",
       "                      nan,              nan,              nan,\n",
       "                      nan,              nan,              nan,\n",
       "                      nan,              nan,              nan],\n",
       "        [             nan,              nan,              nan,\n",
       "                      nan,              nan,              nan,\n",
       "                      nan,              nan,              nan,\n",
       "                      nan,              nan,              nan,\n",
       "                      nan,              nan,              nan,\n",
       "                      nan,              nan,              nan,\n",
       "                      nan,              nan,              nan],\n",
       "        [             nan,              nan,              nan,\n",
       "                      nan,              nan,              nan,\n",
       "                      nan,              nan,              nan,\n",
       "                      nan,              nan,              nan,\n",
       "                      nan,              nan,              nan,\n",
       "                      nan,              nan,              nan,\n",
       "                      nan,              nan,              nan]],\n",
       "\n",
       "       [[  5.17826445e+04,  -1.17792351e-05,  -1.07793546e+00,\n",
       "           2.31551141e-01,  -1.06340802e+00,   2.39353955e-01,\n",
       "          -7.96933286e-03,   1.58859659e-02,   1.24083618e-02,\n",
       "          -5.23646622e+01,   1.00000000e+00,   0.00000000e+00,\n",
       "           0.00000000e+00,   4.00000000e+00,   1.40000000e+01,\n",
       "           8.46101582e-01,   3.00000000e+00,   1.00000000e+00,\n",
       "           0.00000000e+00,   0.00000000e+00,  -1.00000000e+00],\n",
       "        [  4.75495752e+03,   1.49174157e-04,  -8.76953661e-01,\n",
       "           5.26419759e-01,  -8.61312270e-01,   4.35529232e-01,\n",
       "          -1.35372607e-02,   4.75019962e-03,   3.46226037e-01,\n",
       "           8.67698097e+00,   1.00000000e+00,   0.00000000e+00,\n",
       "           0.00000000e+00,   4.00000000e+00,   1.30000000e+01,\n",
       "           7.23378539e-01,   1.00000000e+00,   0.00000000e+00,\n",
       "           0.00000000e+00,   1.00000000e+00,   1.00000000e+00],\n",
       "        [  4.49890332e+03,   1.35986527e-04,  -1.07415116e+00,\n",
       "           1.79237843e-01,  -1.06405210e+00,   8.67440477e-02,\n",
       "          -4.66010189e+00,   9.16267991e-01,   6.47650585e-02,\n",
       "           1.17220604e+02,   0.00000000e+00,   0.00000000e+00,\n",
       "           0.00000000e+00,   0.00000000e+00,   8.00000000e+00,\n",
       "           5.13581522e-02,   2.00000000e+00,   0.00000000e+00,\n",
       "           1.00000000e+00,   0.00000000e+00,   1.00000000e+00],\n",
       "        [  2.39165845e+03,   2.98104685e-04,  -8.69657397e-01,\n",
       "           5.24109483e-01,  -8.56712461e-01,   3.42151761e-01,\n",
       "           5.79550266e-02,  -3.04359999e-02,   3.48636001e-01,\n",
       "          -1.55769615e+01,   1.00000000e+00,   0.00000000e+00,\n",
       "           0.00000000e+00,   4.00000000e+00,   1.20000000e+01,\n",
       "           6.06740952e-01,   1.00000000e+00,   0.00000000e+00,\n",
       "           0.00000000e+00,   1.00000000e+00,   1.00000000e+00],\n",
       "        [  1.70750696e+03,  -3.21780622e-04,  -1.20618486e+00,\n",
       "           1.66224107e-01,  -1.19217837e+00,   4.08485115e-01,\n",
       "           1.49528866e+01,  -2.72684693e+00,   1.50637165e-01,\n",
       "           1.24580765e+02,   0.00000000e+00,   0.00000000e+00,\n",
       "           0.00000000e+00,   0.00000000e+00,   1.00000000e+01,\n",
       "           1.26671595e-02,   2.00000000e+00,   0.00000000e+00,\n",
       "           1.00000000e+00,   0.00000000e+00,  -1.00000000e+00],\n",
       "        [  4.25102448e+02,   1.57565123e-03,  -9.56094325e-01,\n",
       "           4.63200510e-01,  -1.25409722e+00,  -9.27483141e-01,\n",
       "          -6.50085032e-01,  -2.53901761e-02,   2.50458986e-01,\n",
       "          -5.99817371e+00,   1.00000000e+00,   0.00000000e+00,\n",
       "           0.00000000e+00,   5.00000000e+00,   1.10000000e+01,\n",
       "           5.00000000e-01,   1.00000000e+00,   0.00000000e+00,\n",
       "           0.00000000e+00,   1.00000000e+00,   1.00000000e+00],\n",
       "        [             nan,              nan,              nan,\n",
       "                      nan,              nan,              nan,\n",
       "                      nan,              nan,              nan,\n",
       "                      nan,              nan,              nan,\n",
       "                      nan,              nan,              nan,\n",
       "                      nan,              nan,              nan,\n",
       "                      nan,              nan,              nan],\n",
       "        [             nan,              nan,              nan,\n",
       "                      nan,              nan,              nan,\n",
       "                      nan,              nan,              nan,\n",
       "                      nan,              nan,              nan,\n",
       "                      nan,              nan,              nan,\n",
       "                      nan,              nan,              nan,\n",
       "                      nan,              nan,              nan],\n",
       "        [             nan,              nan,              nan,\n",
       "                      nan,              nan,              nan,\n",
       "                      nan,              nan,              nan,\n",
       "                      nan,              nan,              nan,\n",
       "                      nan,              nan,              nan,\n",
       "                      nan,              nan,              nan,\n",
       "                      nan,              nan,              nan],\n",
       "        [             nan,              nan,              nan,\n",
       "                      nan,              nan,              nan,\n",
       "                      nan,              nan,              nan,\n",
       "                      nan,              nan,              nan,\n",
       "                      nan,              nan,              nan,\n",
       "                      nan,              nan,              nan,\n",
       "                      nan,              nan,              nan],\n",
       "        [             nan,              nan,              nan,\n",
       "                      nan,              nan,              nan,\n",
       "                      nan,              nan,              nan,\n",
       "                      nan,              nan,              nan,\n",
       "                      nan,              nan,              nan,\n",
       "                      nan,              nan,              nan,\n",
       "                      nan,              nan,              nan],\n",
       "        [             nan,              nan,              nan,\n",
       "                      nan,              nan,              nan,\n",
       "                      nan,              nan,              nan,\n",
       "                      nan,              nan,              nan,\n",
       "                      nan,              nan,              nan,\n",
       "                      nan,              nan,              nan,\n",
       "                      nan,              nan,              nan],\n",
       "        [             nan,              nan,              nan,\n",
       "                      nan,              nan,              nan,\n",
       "                      nan,              nan,              nan,\n",
       "                      nan,              nan,              nan,\n",
       "                      nan,              nan,              nan,\n",
       "                      nan,              nan,              nan,\n",
       "                      nan,              nan,              nan],\n",
       "        [             nan,              nan,              nan,\n",
       "                      nan,              nan,              nan,\n",
       "                      nan,              nan,              nan,\n",
       "                      nan,              nan,              nan,\n",
       "                      nan,              nan,              nan,\n",
       "                      nan,              nan,              nan,\n",
       "                      nan,              nan,              nan],\n",
       "        [             nan,              nan,              nan,\n",
       "                      nan,              nan,              nan,\n",
       "                      nan,              nan,              nan,\n",
       "                      nan,              nan,              nan,\n",
       "                      nan,              nan,              nan,\n",
       "                      nan,              nan,              nan,\n",
       "                      nan,              nan,              nan],\n",
       "        [             nan,              nan,              nan,\n",
       "                      nan,              nan,              nan,\n",
       "                      nan,              nan,              nan,\n",
       "                      nan,              nan,              nan,\n",
       "                      nan,              nan,              nan,\n",
       "                      nan,              nan,              nan,\n",
       "                      nan,              nan,              nan],\n",
       "        [             nan,              nan,              nan,\n",
       "                      nan,              nan,              nan,\n",
       "                      nan,              nan,              nan,\n",
       "                      nan,              nan,              nan,\n",
       "                      nan,              nan,              nan,\n",
       "                      nan,              nan,              nan,\n",
       "                      nan,              nan,              nan],\n",
       "        [             nan,              nan,              nan,\n",
       "                      nan,              nan,              nan,\n",
       "                      nan,              nan,              nan,\n",
       "                      nan,              nan,              nan,\n",
       "                      nan,              nan,              nan,\n",
       "                      nan,              nan,              nan,\n",
       "                      nan,              nan,              nan],\n",
       "        [             nan,              nan,              nan,\n",
       "                      nan,              nan,              nan,\n",
       "                      nan,              nan,              nan,\n",
       "                      nan,              nan,              nan,\n",
       "                      nan,              nan,              nan,\n",
       "                      nan,              nan,              nan,\n",
       "                      nan,              nan,              nan],\n",
       "        [             nan,              nan,              nan,\n",
       "                      nan,              nan,              nan,\n",
       "                      nan,              nan,              nan,\n",
       "                      nan,              nan,              nan,\n",
       "                      nan,              nan,              nan,\n",
       "                      nan,              nan,              nan,\n",
       "                      nan,              nan,              nan]]], dtype=float32)"
      ]
     },
     "execution_count": 45,
     "metadata": {},
     "output_type": "execute_result"
    }
   ],
   "source": [
    "arr"
   ]
  },
  {
   "cell_type": "code",
   "execution_count": 20,
   "metadata": {
    "collapsed": false
   },
   "outputs": [],
   "source": [
    " arr = np.zeros(10)"
   ]
  },
  {
   "cell_type": "code",
   "execution_count": 23,
   "metadata": {
    "collapsed": true
   },
   "outputs": [],
   "source": [
    "x = arr == 1"
   ]
  },
  {
   "cell_type": "code",
   "execution_count": 24,
   "metadata": {
    "collapsed": false
   },
   "outputs": [
    {
     "data": {
      "text/plain": [
       "array([False, False, False, False, False, False, False, False, False, False], dtype=bool)"
      ]
     },
     "execution_count": 24,
     "metadata": {},
     "output_type": "execute_result"
    }
   ],
   "source": [
    "x"
   ]
  },
  {
   "cell_type": "code",
   "execution_count": null,
   "metadata": {
    "collapsed": true
   },
   "outputs": [],
   "source": []
  }
 ],
 "metadata": {
  "kernelspec": {
   "display_name": "Python 3",
   "language": "python",
   "name": "python3"
  },
  "language_info": {
   "codemirror_mode": {
    "name": "ipython",
    "version": 3
   },
   "file_extension": ".py",
   "mimetype": "text/x-python",
   "name": "python",
   "nbconvert_exporter": "python",
   "pygments_lexer": "ipython3",
   "version": "3.5.3"
  }
 },
 "nbformat": 4,
 "nbformat_minor": 2
}
