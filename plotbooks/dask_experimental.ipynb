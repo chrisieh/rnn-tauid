{
 "cells": [
  {
   "cell_type": "markdown",
   "metadata": {},
   "source": [
    "# Preprocessing"
   ]
  },
  {
   "cell_type": "code",
   "execution_count": 1,
   "metadata": {
    "collapsed": true
   },
   "outputs": [],
   "source": [
    "import numpy as np\n",
    "import dask.array as da\n",
    "import h5py"
   ]
  },
  {
   "cell_type": "markdown",
   "metadata": {},
   "source": [
    "Input files and datasets:"
   ]
  },
  {
   "cell_type": "code",
   "execution_count": 2,
   "metadata": {
    "collapsed": true
   },
   "outputs": [],
   "source": [
    "sigf = h5py.File(\"sig1P_track.h5\", \"r\")\n",
    "bkgf = h5py.File(\"bkg1P_track.h5\", \"r\")\n",
    "sig_ds = sigf[\"track\"]\n",
    "bkg_ds = bkgf[\"track\"]"
   ]
  },
  {
   "cell_type": "code",
   "execution_count": 3,
   "metadata": {
    "collapsed": true
   },
   "outputs": [],
   "source": [
    "sig = da.from_array(sig_ds, chunks=sig_ds.chunks)\n",
    "bkg = da.from_array(bkg_ds, chunks=bkg_ds.chunks)"
   ]
  },
  {
   "cell_type": "markdown",
   "metadata": {},
   "source": [
    "Slimmed list of variables:"
   ]
  },
  {
   "cell_type": "code",
   "execution_count": 4,
   "metadata": {
    "collapsed": true
   },
   "outputs": [],
   "source": [
    "invars = [\"TauTracks.qOverP\", \"TauTracks.z0sinThetaTJVA\", \"TauTracks.d0\",\n",
    "          \"TauTracks.dRJetSeedAxis\", \"TauTracks.rConvII\", \"TauTracks.nInnermostPixelHits\",\n",
    "          \"TauTracks.nPixelHits\", \"TauTracks.nSiHits\", \"TauTracks.eProbabilityHT\"]"
   ]
  },
  {
   "cell_type": "markdown",
   "metadata": {},
   "source": [
    "Sample fractions for training/validation"
   ]
  },
  {
   "cell_type": "code",
   "execution_count": 5,
   "metadata": {
    "collapsed": false
   },
   "outputs": [
    {
     "name": "stdout",
     "output_type": "stream",
     "text": [
      "[0:988859] for RNN-training\n",
      "[988859:1318479] for validation\n"
     ]
    }
   ],
   "source": [
    "total_frac = 0.2\n",
    "idx = int(total_frac * min(len(sig), len(bkg)))\n",
    "val_frac = 0.25\n",
    "val_split = int((1.0 - val_frac) * idx)\n",
    "n_tracks = 10\n",
    "\n",
    "print(\"[0:{}] for RNN-training\".format(val_split))\n",
    "print(\"[{}:{}] for validation\".format(val_split, idx))"
   ]
  },
  {
   "cell_type": "markdown",
   "metadata": {},
   "source": [
    "## Loading, slimming, splitting, merging"
   ]
  },
  {
   "cell_type": "code",
   "execution_count": 6,
   "metadata": {
    "collapsed": true
   },
   "outputs": [],
   "source": [
    "# Fraction of entire dataset\n",
    "sig_split = sig[:idx, :n_tracks]\n",
    "bkg_split = bkg[:idx, :n_tracks]"
   ]
  },
  {
   "cell_type": "code",
   "execution_count": 7,
   "metadata": {
    "collapsed": true
   },
   "outputs": [],
   "source": [
    "# Slim variables\n",
    "sig_split = sig_split[invars]\n",
    "bkg_split = bkg_split[invars]"
   ]
  },
  {
   "cell_type": "code",
   "execution_count": 8,
   "metadata": {
    "collapsed": true
   },
   "outputs": [],
   "source": [
    "# Convert structured array to ndarray\n",
    "sig_split = sig_split.view(np.float32).reshape(sig_split.shape + (-1,))\n",
    "bkg_split = bkg_split.view(np.float32).reshape(bkg_split.shape + (-1,))"
   ]
  },
  {
   "cell_type": "code",
   "execution_count": 9,
   "metadata": {
    "collapsed": false
   },
   "outputs": [],
   "source": [
    "# Train split\n",
    "sig_train = sig_split[:val_split]\n",
    "bkg_train = bkg_split[:val_split]\n",
    "\n",
    "# Validation split\n",
    "sig_val = sig_split[val_split:idx]\n",
    "bkg_val = bkg_split[val_split:idx]\n",
    "\n",
    "# Concatenate sig & bkg\n",
    "train = da.vstack((sig_train, bkg_train))\n",
    "validation = da.vstack((sig_val, bkg_val))\n",
    "\n",
    "# Sample labels\n",
    "train_label = da.concatenate(\n",
    "    (da.ones(val_split, dtype=np.float32, chunks=1000000),\n",
    "     da.zeros(val_split, dtype=np.float32, chunks=1000000))\n",
    ")\n",
    "validation_label = da.concatenate(\n",
    "    (da.ones(idx - val_split, dtype=np.float32, chunks=1000000), \n",
    "     da.zeros(idx - val_split, dtype=np.float32, chunks=1000000)))"
   ]
  },
  {
   "cell_type": "markdown",
   "metadata": {},
   "source": [
    "## Subtract mean, divide by stddev"
   ]
  },
  {
   "cell_type": "code",
   "execution_count": 10,
   "metadata": {
    "collapsed": false
   },
   "outputs": [],
   "source": [
    "offset = da.nanmean(train, axis=0)\n",
    "scale = da.nanstd(train, axis=0)\n",
    "\n",
    "train -= offset\n",
    "train /= scale\n",
    "\n",
    "validation -= offset\n",
    "validation /= scale"
   ]
  },
  {
   "cell_type": "markdown",
   "metadata": {},
   "source": [
    "Set NaNs to 0:"
   ]
  },
  {
   "cell_type": "code",
   "execution_count": 11,
   "metadata": {
    "collapsed": false
   },
   "outputs": [],
   "source": [
    "#train[da.isnan(train)] = 0.0\n",
    "#validation[da.isnan(validation)] = 0.0"
   ]
  },
  {
   "cell_type": "code",
   "execution_count": 12,
   "metadata": {
    "collapsed": true
   },
   "outputs": [],
   "source": [
    "# TODO shuffle"
   ]
  },
  {
   "cell_type": "markdown",
   "metadata": {},
   "source": [
    "## Save array and auxiliary info"
   ]
  },
  {
   "cell_type": "code",
   "execution_count": 13,
   "metadata": {
    "collapsed": true
   },
   "outputs": [],
   "source": [
    "outf = \"split1P.h5\""
   ]
  },
  {
   "cell_type": "code",
   "execution_count": 14,
   "metadata": {
    "collapsed": true
   },
   "outputs": [],
   "source": [
    "# Check if exists"
   ]
  },
  {
   "cell_type": "code",
   "execution_count": 15,
   "metadata": {
    "collapsed": false
   },
   "outputs": [
    {
     "name": "stderr",
     "output_type": "stream",
     "text": [
      "C:\\Users\\chris\\Miniconda3\\envs\\ML\\lib\\site-packages\\dask\\array\\core.py:2544: FutureWarning: Numpy has detected that you may be viewing or writing to an array returned by selecting multiple fields in a structured array. \n",
      "\n",
      "This code may break in numpy 1.13 because this will return a view instead of a copy -- see release notes for details.\n",
      "  return function(*args2, **kwargs)\n"
     ]
    }
   ],
   "source": [
    "da.to_hdf5(outf, {\"/train\": train, \"/train_label\": train_label,\n",
    "                  \"/validation\": validation, \"/validation_label\": validation_label,\n",
    "                  \"/offset\": offset, \"/scale\": scale},\n",
    "           compression=\"gzip\", compression_opts=9)"
   ]
  },
  {
   "cell_type": "code",
   "execution_count": 16,
   "metadata": {
    "collapsed": false
   },
   "outputs": [],
   "source": [
    "with h5py.File(outf, \"a\") as f:\n",
    "    f.create_dataset(\"/variables\", data=np.array(invars, dtype=\"S\"))\n",
    "    f.create_dataset(\"/splits\", data=np.array([val_split, idx], dtype=np.int32))"
   ]
  },
  {
   "cell_type": "code",
   "execution_count": 17,
   "metadata": {
    "collapsed": false
   },
   "outputs": [],
   "source": [
    "sigf.close()\n",
    "bkgf.close()"
   ]
  },
  {
   "cell_type": "code",
   "execution_count": null,
   "metadata": {
    "collapsed": true
   },
   "outputs": [],
   "source": []
  },
  {
   "cell_type": "code",
   "execution_count": null,
   "metadata": {
    "collapsed": true
   },
   "outputs": [],
   "source": []
  }
 ],
 "metadata": {
  "kernelspec": {
   "display_name": "Python 3",
   "language": "python",
   "name": "python3"
  },
  "language_info": {
   "codemirror_mode": {
    "name": "ipython",
    "version": 3
   },
   "file_extension": ".py",
   "mimetype": "text/x-python",
   "name": "python",
   "nbconvert_exporter": "python",
   "pygments_lexer": "ipython3",
   "version": "3.5.3"
  }
 },
 "nbformat": 4,
 "nbformat_minor": 2
}
