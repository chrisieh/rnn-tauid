{
 "cells": [
  {
   "cell_type": "markdown",
   "metadata": {
    "deletable": true,
    "editable": true
   },
   "source": [
    "# 1P - Track Features"
   ]
  },
  {
   "cell_type": "code",
   "execution_count": 1,
   "metadata": {
    "collapsed": true,
    "deletable": true,
    "editable": true
   },
   "outputs": [],
   "source": [
    "from os import path\n",
    "\n",
    "import numpy as np\n",
    "import h5py\n",
    "from tqdm import tqdm\n",
    "\n",
    "%matplotlib inline\n",
    "from rnn_tauid.common.mpl_setup import mpl_setup\n",
    "import matplotlib.pyplot as plt\n",
    "mpl_setup()"
   ]
  },
  {
   "cell_type": "markdown",
   "metadata": {
    "deletable": true,
    "editable": true
   },
   "source": [
    "Input files and datasets:"
   ]
  },
  {
   "cell_type": "code",
   "execution_count": 2,
   "metadata": {
    "collapsed": false,
    "deletable": true,
    "editable": true
   },
   "outputs": [],
   "source": [
    "# Sample paths\n",
    "sig_jet_fname = \"/lustre/user/cdeutsch/rnn-samples-v4/sig1P_jet.h5\"\n",
    "bkg_jet_fname = \"/lustre/user/cdeutsch/rnn-samples-v4/bkg1P_jet_shuffle.h5\"\n",
    "sig_track_fname = \"/lustre/user/cdeutsch/rnn-samples-v4/sig1P_track.h5\"\n",
    "bkg_track_fname = \"/lustre/user/cdeutsch/rnn-samples-v4/bkg1P_track_shuffle.h5\"\n",
    "\n",
    "# Output sample\n",
    "outf_fname = \"/lustre/user/cdeutsch/rnn-feature-samples-v4/track_1p_trsf/track.h5\"\n",
    "\n",
    "# Plot output prefix\n",
    "plot_prefix = \"/lustre/user/cdeutsch/rnn-feature-samples-v4/track_1p_trsf/plots/\""
   ]
  },
  {
   "cell_type": "code",
   "execution_count": 3,
   "metadata": {
    "collapsed": false,
    "deletable": true,
    "editable": true
   },
   "outputs": [],
   "source": [
    "# Tau-level datasets\n",
    "sigf_jet = h5py.File(sig_jet_fname, \"r\")\n",
    "bkgf_jet = h5py.File(bkg_jet_fname, \"r\")\n",
    "sig_jet = sigf_jet[\"jet\"]\n",
    "bkg_jet = bkgf_jet[\"jet\"]\n",
    "\n",
    "# Track-level datasets\n",
    "sigf_track = h5py.File(sig_track_fname, \"r\")\n",
    "bkgf_track = h5py.File(bkg_track_fname, \"r\")\n",
    "sig_track = sigf_track[\"track\"]\n",
    "bkg_track = bkgf_track[\"track\"]"
   ]
  },
  {
   "cell_type": "markdown",
   "metadata": {
    "deletable": true,
    "editable": true
   },
   "source": [
    "Sample fractions for training/validation"
   ]
  },
  {
   "cell_type": "code",
   "execution_count": 4,
   "metadata": {
    "collapsed": false,
    "deletable": true,
    "editable": true
   },
   "outputs": [
    {
     "name": "stdout",
     "output_type": "stream",
     "text": [
      "[0:1308853] for RNN-training\n"
     ]
    }
   ],
   "source": [
    "# Fraction of the smallest sample to be used for training and validation\n",
    "total_frac = 0.2\n",
    "idx = int(total_frac * min(len(sig_track), len(bkg_track)))\n",
    "# Number of tracks to save\n",
    "n_tracks = 10\n",
    "\n",
    "print(\"[0:{}] for RNN-training\".format(idx))"
   ]
  },
  {
   "cell_type": "markdown",
   "metadata": {
    "deletable": true,
    "editable": true
   },
   "source": [
    "## $p_\\mathrm{T}$-reweighting\n",
    "\n",
    "### Before reweighting"
   ]
  },
  {
   "cell_type": "code",
   "execution_count": 5,
   "metadata": {
    "collapsed": false,
    "deletable": true,
    "editable": true,
    "scrolled": true
   },
   "outputs": [
    {
     "name": "stderr",
     "output_type": "stream",
     "text": [
      "/lustre/user/cdeutsch/miniconda2/envs/ML/lib/python2.7/site-packages/matplotlib/font_manager.py:1297: UserWarning: findfont: Font family [u'sans-serif'] not found. Falling back to DejaVu Sans\n",
      "  (prop.get_family(), self.defaultFamily[fontext]))\n"
     ]
    },
    {
     "data": {
      "image/png": "[encoded data removed]",
      "text/plain": [
       "<matplotlib.figure.Figure at 0x7f90477667d0>"
      ]
     },
     "metadata": {},
     "output_type": "display_data"
    }
   ],
   "source": [
    "sig_pt = sig_jet[:idx, \"TauJets.pt\"]\n",
    "bkg_pt = bkg_jet[:idx, \"TauJets.pt\"]\n",
    "\n",
    "plt.hist(sig_pt / 1000.0, bins=35, range=(0, 500), histtype=\"step\", normed=True, label=\"Signal\")\n",
    "plt.hist(bkg_pt / 1000.0, bins=35, range=(0, 500), histtype=\"step\", normed=True, label=\"Background\")\n",
    "plt.legend()\n",
    "lo, hi = plt.ylim()\n",
    "plt.ylim((lo, 1.1 * hi))\n",
    "plt.xlabel(\"$p_\\mathrm{T}$ / GeV\")\n",
    "plt.ylabel(\"Normalized number of events\")\n",
    "plt.savefig(path.join(plot_prefix, \"pt_no_reweight_1p.pdf\"))"
   ]
  },
  {
   "cell_type": "code",
   "execution_count": 6,
   "metadata": {
    "collapsed": true,
    "deletable": true,
    "editable": true
   },
   "outputs": [],
   "source": [
    "# Binning\n",
    "bin_edges = np.percentile(bkg_pt, np.linspace(0.0, 100.0, 50))\n",
    "bin_edges[0] = 20000.0 # 20 GeV lower limit\n",
    "bin_edges[-1] = 4000000.0 # 4000 GeV upper limit\n",
    "midpoints = (bin_edges[1:] + bin_edges[:-1]) / 2.0"
   ]
  },
  {
   "cell_type": "code",
   "execution_count": 7,
   "metadata": {
    "collapsed": false,
    "deletable": true,
    "editable": true
   },
   "outputs": [
    {
     "data": {
      "image/png": "[encoded data removed]",
      "text/plain": [
       "<matplotlib.figure.Figure at 0x7f90477ceb50>"
      ]
     },
     "metadata": {},
     "output_type": "display_data"
    }
   ],
   "source": [
    "# Reweighting coefficient\n",
    "sig_hist, _ = np.histogram(sig_pt, bins=bin_edges, density=True)\n",
    "bkg_hist, _ = np.histogram(bkg_pt, bins=bin_edges, density=True)\n",
    "\n",
    "coeff = sig_hist / bkg_hist\n",
    "\n",
    "plt.plot(midpoints / 1000.0, coeff, \".\")\n",
    "plt.xlabel(\"$p_\\mathrm{T}$ / GeV\")\n",
    "plt.ylabel(\"Reweighting coefficient\")\n",
    "plt.xscale(\"log\")\n",
    "plt.savefig(path.join(plot_prefix, \"pt_reweight_coeff_1p.pdf\"))"
   ]
  },
  {
   "cell_type": "code",
   "execution_count": 8,
   "metadata": {
    "collapsed": true,
    "deletable": true,
    "editable": true
   },
   "outputs": [],
   "source": [
    "# Apply reweighting\n",
    "sig_weight = np.ones_like(sig_pt)\n",
    "bkg_weight = coeff[np.digitize(bkg_pt, bin_edges) - 1].astype(np.float32)"
   ]
  },
  {
   "cell_type": "code",
   "execution_count": 9,
   "metadata": {
    "collapsed": false,
    "deletable": true,
    "editable": true,
    "scrolled": true
   },
   "outputs": [
    {
     "data": {
      "image/png": "[encoded data removed]",
      "text/plain": [
       "<matplotlib.figure.Figure at 0x7f9043759d50>"
      ]
     },
     "metadata": {},
     "output_type": "display_data"
    }
   ],
   "source": [
    "plt.hist(bkg_weight, bins=12, range=(0.0, 4.0), histtype=\"step\", normed=True)\n",
    "plt.xlabel(\"Background weight\")\n",
    "plt.ylabel(\"Normalized number of events\")\n",
    "lo, hi = plt.ylim()\n",
    "plt.ylim((lo, 1.1 * hi));\n",
    "plt.savefig(path.join(plot_prefix, \"background_weights_1p.pdf\"))"
   ]
  },
  {
   "cell_type": "markdown",
   "metadata": {
    "deletable": true,
    "editable": true
   },
   "source": [
    "### After reweighting"
   ]
  },
  {
   "cell_type": "code",
   "execution_count": 10,
   "metadata": {
    "collapsed": false,
    "deletable": true,
    "editable": true,
    "scrolled": true
   },
   "outputs": [
    {
     "data": {
      "image/png": "[encoded data removed]",
      "text/plain": [
       "<matplotlib.figure.Figure at 0x7f90436f1190>"
      ]
     },
     "metadata": {},
     "output_type": "display_data"
    }
   ],
   "source": [
    "plt.hist(sig_pt / 1000.0, weights=sig_weight, bins=35, range=(0, 500), histtype=\"step\", normed=True, label=\"Signal\")\n",
    "plt.hist(bkg_pt / 1000.0, weights=bkg_weight, bins=35, range=(0, 500), histtype=\"step\", normed=True, label=\"Background\")\n",
    "plt.legend()\n",
    "lo, hi = plt.ylim()\n",
    "plt.ylim((lo, 1.1 * hi))\n",
    "plt.xlabel(\"$p_\\mathrm{T}$ / GeV\")\n",
    "plt.ylabel(\"Normalized number of events\")\n",
    "plt.savefig(path.join(plot_prefix, \"pt_reweight_1p.pdf\"))"
   ]
  },
  {
   "cell_type": "markdown",
   "metadata": {
    "deletable": true,
    "editable": true
   },
   "source": [
    "## Create output file\n",
    "\n",
    "### Variables from input samples"
   ]
  },
  {
   "cell_type": "code",
   "execution_count": 11,
   "metadata": {
    "collapsed": true,
    "deletable": true,
    "editable": true
   },
   "outputs": [],
   "source": [
    "jet_vars = [\"TauJets.pt\", \"TauJets.eta\", \"TauJets.mu\", \"TauJets.nVtxPU\"]"
   ]
  },
  {
   "cell_type": "code",
   "execution_count": 12,
   "metadata": {
    "collapsed": true,
    "deletable": true,
    "editable": true
   },
   "outputs": [],
   "source": [
    "var_names = [\"TauTracks.qOverP\", \"TauTracks.z0sinThetaTJVA\", \"TauTracks.d0\",\n",
    "             \"TauTracks.dRJetSeedAxis\", \"TauTracks.rConvII\", \"TauTracks.nInnermostPixelHits\",\n",
    "             \"TauTracks.nPixelHits\", \"TauTracks.nSiHits\", \"TauTracks.eProbabilityHT\",\n",
    "             \"TauTracks.pt\"]"
   ]
  },
  {
   "cell_type": "code",
   "execution_count": 13,
   "metadata": {
    "collapsed": false,
    "deletable": true,
    "editable": true
   },
   "outputs": [],
   "source": [
    "h5opt = dict(dtype=np.float32, compression=\"gzip\", compression_opts=9, shuffle=True, fletcher32=True)\n",
    "\n",
    "outf = h5py.File(outf_fname, \"w\")\n",
    "\n",
    "outf.attrs[\"idx\"] = idx\n",
    "outf.create_dataset(\"label\", (2 * idx,), **h5opt)\n",
    "outf.create_dataset(\"weight\", (2 * idx,), **h5opt)\n",
    "\n",
    "# First idx values signal, rest background\n",
    "outf[\"label\"][:idx] = 1\n",
    "outf[\"label\"][idx:] = 0\n",
    "outf[\"weight\"][:idx] = sig_weight\n",
    "outf[\"weight\"][idx:] = bkg_weight"
   ]
  },
  {
   "cell_type": "code",
   "execution_count": 14,
   "metadata": {
    "collapsed": false,
    "deletable": true,
    "editable": true
   },
   "outputs": [
    {
     "name": "stderr",
     "output_type": "stream",
     "text": [
      "100%|██████████| 4/4 [00:24<00:00,  5.86s/it]\n"
     ]
    }
   ],
   "source": [
    "for var in tqdm(jet_vars):\n",
    "    ds = outf.create_dataset(\"data/\" + var, (2 * idx,), **h5opt)\n",
    "    ds[:idx] = sig_jet[:idx, var]\n",
    "    ds[idx:] = bkg_jet[:idx, var]"
   ]
  },
  {
   "cell_type": "code",
   "execution_count": 15,
   "metadata": {
    "collapsed": false,
    "deletable": true,
    "editable": true
   },
   "outputs": [
    {
     "name": "stderr",
     "output_type": "stream",
     "text": [
      "100%|██████████| 10/10 [14:31<00:00, 92.26s/it]\n"
     ]
    }
   ],
   "source": [
    "for var in tqdm(var_names):\n",
    "    ds = outf.create_dataset(\"data/\" + var, (2 * idx, n_tracks), **h5opt)\n",
    "    ds[:idx] = sig_track[:idx, :n_tracks, var]\n",
    "    ds[idx:] = bkg_track[:idx, :n_tracks, var]"
   ]
  },
  {
   "cell_type": "markdown",
   "metadata": {
    "deletable": true,
    "editable": true
   },
   "source": [
    "### Calculated variables"
   ]
  },
  {
   "cell_type": "code",
   "execution_count": 16,
   "metadata": {
    "collapsed": false,
    "deletable": true,
    "editable": true
   },
   "outputs": [],
   "source": [
    "sig_pt_track = sig_track[:idx, :n_tracks, \"TauTracks.pt\"]\n",
    "bkg_pt_track = bkg_track[:idx, :n_tracks, \"TauTracks.pt\"]\n",
    "\n",
    "sig_pt_jet = sig_jet[:idx, \"TauJets.ptJetSeed\"][:, np.newaxis]\n",
    "bkg_pt_jet = bkg_jet[:idx, \"TauJets.ptJetSeed\"][:, np.newaxis]\n",
    "\n",
    "outf.create_dataset(\"data/TauTracks.ptfrac\", (2 * idx, n_tracks), **h5opt)\n",
    "outf[\"data/TauTracks.ptfrac\"][:idx] = sig_pt_track / sig_pt_jet\n",
    "outf[\"data/TauTracks.ptfrac\"][idx:] = bkg_pt_track / bkg_pt_jet\n",
    "\n",
    "del sig_pt_track, bkg_pt_track\n",
    "del sig_pt_jet, bkg_pt_jet"
   ]
  },
  {
   "cell_type": "code",
   "execution_count": 17,
   "metadata": {
    "collapsed": false
   },
   "outputs": [],
   "source": [
    "ds = outf.create_dataset(\"data/TauTracks.abs_z0sinThetaTJVA\", (2 * idx, n_tracks), **h5opt)\n",
    "ds[...] = np.abs(outf[\"data/TauTracks.z0sinThetaTJVA\"][...])\n",
    "\n",
    "ds = outf.create_dataset(\"data/TauTracks.abs_d0\", (2 * idx, n_tracks), **h5opt)\n",
    "ds[...] = np.abs(outf[\"data/TauTracks.d0\"][...])\n",
    "\n",
    "ds = outf.create_dataset(\"data/TauTracks.rConv\", (2 * idx, n_tracks), **h5opt)\n",
    "ds[...] = np.abs(outf[\"data/TauTracks.rConvII\"][...])"
   ]
  },
  {
   "cell_type": "code",
   "execution_count": 18,
   "metadata": {
    "collapsed": true
   },
   "outputs": [],
   "source": [
    "epsilon = 1e-6\n",
    "\n",
    "ds = outf.create_dataset(\"data/TauTracks.pt_log\", (2 * idx, n_tracks), **h5opt)\n",
    "ds[...] = np.log10(outf[\"data/TauTracks.pt\"][...])\n",
    "\n",
    "ds = outf.create_dataset(\"data/TauTracks.d0_log\", (2 * idx, n_tracks), **h5opt)\n",
    "ds[...] = np.log10(outf[\"data/TauTracks.abs_d0\"][...] + epsilon)\n",
    "\n",
    "ds = outf.create_dataset(\"data/TauTracks.z0sinThetaTJVA_log\", (2 * idx, n_tracks), **h5opt)\n",
    "ds[...] = np.log10(outf[\"data/TauTracks.abs_z0sinThetaTJVA\"][...] + epsilon)\n",
    "\n",
    "ds = outf.create_dataset(\"data/TauTracks.rConv_log\", (2 * idx, n_tracks), **h5opt)\n",
    "ds[...] = np.log10(outf[\"data/TauTracks.rConv\"][...] + epsilon)"
   ]
  },
  {
   "cell_type": "code",
   "execution_count": 19,
   "metadata": {
    "collapsed": true
   },
   "outputs": [],
   "source": [
    "sig_pt_track = sig_track[:idx, :n_tracks, \"TauTracks.pt\"]\n",
    "bkg_pt_track = bkg_track[:idx, :n_tracks, \"TauTracks.pt\"]\n",
    "\n",
    "sig_pt_jet = sig_jet[:idx, \"TauJets.ptJetSeed\"][:, np.newaxis]\n",
    "bkg_pt_jet = bkg_jet[:idx, \"TauJets.ptJetSeed\"][:, np.newaxis]\n",
    "\n",
    "sig_pt_asym = (sig_pt_track - sig_pt_jet) / (sig_pt_track + sig_pt_jet)\n",
    "bkg_pt_asym = (bkg_pt_track - bkg_pt_jet) / (bkg_pt_track + bkg_pt_jet)\n",
    "\n",
    "ds = outf.create_dataset(\"data/TauTracks.pt_asym\", (2 * idx, n_tracks), **h5opt)\n",
    "ds[:idx] = sig_pt_asym\n",
    "ds[idx:] = bkg_pt_asym\n",
    "\n",
    "del sig_pt_track, bkg_pt_track\n",
    "del sig_pt_jet, bkg_pt_jet\n",
    "del sig_pt_asym, bkg_pt_asym"
   ]
  },
  {
   "cell_type": "markdown",
   "metadata": {
    "deletable": true,
    "editable": true
   },
   "source": [
    "## Monitoring plots"
   ]
  },
  {
   "cell_type": "code",
   "execution_count": 20,
   "metadata": {
    "collapsed": true,
    "deletable": true,
    "editable": true
   },
   "outputs": [],
   "source": [
    "sig_mask = outf[\"label\"][...] == 1\n",
    "bkg_mask = ~sig_mask"
   ]
  },
  {
   "cell_type": "markdown",
   "metadata": {
    "deletable": true,
    "editable": true
   },
   "source": [
    "### TauJets"
   ]
  },
  {
   "cell_type": "code",
   "execution_count": 21,
   "metadata": {
    "collapsed": false,
    "deletable": true,
    "editable": true
   },
   "outputs": [
    {
     "data": {
      "image/png": "[encoded data removed]",
      "text/plain": [
       "<matplotlib.figure.Figure at 0x7f90436fd0d0>"
      ]
     },
     "metadata": {},
     "output_type": "display_data"
    }
   ],
   "source": [
    "histopt = dict(bins=40, range=(-2.7, 2.7), normed=True, histtype=\"step\")\n",
    "plt.hist(outf[\"data/TauJets.eta\"][sig_mask], label=\"Signal\", **histopt)\n",
    "plt.hist(outf[\"data/TauJets.eta\"][bkg_mask], weights=bkg_weight, label=\"Background\", **histopt)\n",
    "plt.xlabel(\"$\\eta$\")\n",
    "plt.ylabel(\"Normalized number of events\")\n",
    "plt.ylim((0.0, 0.35))\n",
    "plt.legend()\n",
    "plt.savefig(path.join(plot_prefix, \"jet_eta_1p.pdf\"))"
   ]
  },
  {
   "cell_type": "code",
   "execution_count": 22,
   "metadata": {
    "collapsed": false,
    "deletable": true,
    "editable": true
   },
   "outputs": [
    {
     "data": {
      "image/png": "[encoded data removed]",
      "text/plain": [
       "<matplotlib.figure.Figure at 0x7f9043950c50>"
      ]
     },
     "metadata": {},
     "output_type": "display_data"
    }
   ],
   "source": [
    "histopt = dict(bins=np.arange(0, 62, 2)-0.5, normed=True, histtype=\"step\")\n",
    "plt.hist(outf[\"data/TauJets.mu\"][sig_mask], label=\"Signal\", **histopt)\n",
    "plt.hist(outf[\"data/TauJets.mu\"][bkg_mask], weights=bkg_weight, label=\"Background\", **histopt)\n",
    "plt.xlabel(\"$\\mu$\")\n",
    "plt.ylabel(\"Normalized number of events\")\n",
    "plt.ylim((0.0, 0.05))\n",
    "plt.legend()\n",
    "plt.savefig(path.join(plot_prefix, \"jet_mu_1p.pdf\"))"
   ]
  },
  {
   "cell_type": "code",
   "execution_count": 23,
   "metadata": {
    "collapsed": false,
    "deletable": true,
    "editable": true
   },
   "outputs": [
    {
     "data": {
      "image/png": "[encoded data removed]",
      "text/plain": [
       "<matplotlib.figure.Figure at 0x7f904395b250>"
      ]
     },
     "metadata": {},
     "output_type": "display_data"
    }
   ],
   "source": [
    "histopt = dict(bins=np.arange(0, 40, 2)-0.5, normed=True, histtype=\"step\")\n",
    "plt.hist(outf[\"data/TauJets.nVtxPU\"][sig_mask], label=\"Signal\", **histopt)\n",
    "plt.hist(outf[\"data/TauJets.nVtxPU\"][bkg_mask], weights=bkg_weight, label=\"Background\", **histopt)\n",
    "plt.xlabel(\"nVtxPU\")\n",
    "plt.ylabel(\"Normalized number of events\")\n",
    "plt.ylim((0.0, 0.08))\n",
    "plt.legend()\n",
    "plt.savefig(path.join(plot_prefix, \"jet_nVtxPU_1p.pdf\"))"
   ]
  },
  {
   "cell_type": "markdown",
   "metadata": {
    "deletable": true,
    "editable": true
   },
   "source": [
    "### TauTracks"
   ]
  },
  {
   "cell_type": "code",
   "execution_count": null,
   "metadata": {
    "collapsed": true,
    "deletable": true,
    "editable": true
   },
   "outputs": [],
   "source": [
    "def track_plot(var, xlabel=\"\", **histopt):\n",
    "    arr = outf[\"data/\" + var][:, :n_tracks]\n",
    "\n",
    "    fig, ax = plt.subplots(n_tracks // 2, 2, sharex=True, figsize=(12.0, 12.0 / 2.0 * (n_tracks // 2) * 3.0 / 4.0))\n",
    "    ax_flat = ax.ravel()\n",
    "    \n",
    "    for i in range(n_tracks):\n",
    "        s = arr[:, i][sig_mask]\n",
    "        s = s[~np.isnan(s)]\n",
    "        \n",
    "        b = arr[:, i][bkg_mask]\n",
    "        w = bkg_weight[~np.isnan(b)]\n",
    "        b = b[~np.isnan(b)]\n",
    "        \n",
    "        ax_flat[i].hist(s, label=\"Signal\", **histopt)\n",
    "        ax_flat[i].hist(b, weights=w, label=\"Background\", **histopt)\n",
    "        ax_flat[i].annotate(str(i + 1) + \". in $p_\\mathrm{T}$\", xy=(0.05, 0.9), xycoords=\"axes fraction\")\n",
    "        \n",
    "        bottom, top = ax_flat[i].get_ylim()\n",
    "        ax_flat[i].set_ylim((bottom, 1.1 * top))\n",
    "    \n",
    "    ax[0,1].legend(loc=\"upper right\")\n",
    "    ax[n_tracks // 2 - 1, 0].set_xlabel(xlabel)\n",
    "    ax[n_tracks // 2 - n_tracks % 2 - 1, 1].set_xlabel(xlabel)\n",
    "    #ax[0,0].set_ylabel(\"Normalized number of tracks\")\n",
    "    #ax[1,0].set_ylabel(\"Normalized number of tracks\")\n",
    "    \n",
    "    fig.subplots_adjust(hspace=0.05, wspace=0.15)\n",
    "    \n",
    "    return fig, ax"
   ]
  },
  {
   "cell_type": "code",
   "execution_count": null,
   "metadata": {
    "collapsed": false,
    "deletable": true,
    "editable": true
   },
   "outputs": [],
   "source": [
    "histopt = dict(bins=50, range=(-0.0005, 0.0005), normed=True, histtype=\"step\")\n",
    "fig, ax = track_plot(\"TauTracks.qOverP\", xlabel=\"$q / p$\", **histopt)\n",
    "fig.savefig(path.join(plot_prefix, \"track_qOverP_1p.pdf\"))"
   ]
  },
  {
   "cell_type": "code",
   "execution_count": null,
   "metadata": {
    "collapsed": false,
    "deletable": true,
    "editable": true
   },
   "outputs": [],
   "source": [
    "histopt = dict(bins=50, range=(-0.5, 0.5), normed=True, histtype=\"step\")\n",
    "fig, ax = track_plot(\"TauTracks.z0sinThetaTJVA\", xlabel=r\"$z_0 \\sin{\\theta_\\mathrm{TJVA}}$ / mm\", **histopt)\n",
    "fig.savefig(path.join(plot_prefix, \"track_z0sinThetaTJVA_1p.pdf\"))"
   ]
  },
  {
   "cell_type": "code",
   "execution_count": null,
   "metadata": {
    "collapsed": false,
    "deletable": true,
    "editable": true
   },
   "outputs": [],
   "source": [
    "histopt = dict(bins=50, range=(-0.4, 0.4), normed=True, histtype=\"step\")\n",
    "fig, ax = track_plot(\"TauTracks.d0\", xlabel=r\"$d_0$ / mm\", **histopt)\n",
    "fig.savefig(path.join(plot_prefix, \"track_d0_1p.pdf\"))"
   ]
  },
  {
   "cell_type": "code",
   "execution_count": null,
   "metadata": {
    "collapsed": false,
    "deletable": true,
    "editable": true
   },
   "outputs": [],
   "source": [
    "histopt = dict(bins=50, range=(0.0, 0.5), normed=True, histtype=\"step\")\n",
    "fig, ax = track_plot(\"TauTracks.dRJetSeedAxis\", xlabel=r\"$\\Delta R_\\mathrm{JetSeedAxis}$\", **histopt)\n",
    "fig.savefig(path.join(plot_prefix, \"track_dRJetSeedAxis_1p.pdf\"))"
   ]
  },
  {
   "cell_type": "code",
   "execution_count": null,
   "metadata": {
    "collapsed": false,
    "deletable": true,
    "editable": true
   },
   "outputs": [],
   "source": [
    "histopt = dict(bins=50, range=(-300.0, 300.0), normed=True, histtype=\"step\")\n",
    "fig, ax = track_plot(\"TauTracks.rConvII\", xlabel=\"rConvII\", **histopt)\n",
    "fig.savefig(path.join(plot_prefix, \"track_rConvII_1p.pdf\"))"
   ]
  },
  {
   "cell_type": "code",
   "execution_count": null,
   "metadata": {
    "collapsed": false,
    "deletable": true,
    "editable": true
   },
   "outputs": [],
   "source": [
    "histopt = dict(bins=50, range=(0, 1), normed=True, histtype=\"step\")\n",
    "fig, ax = track_plot(\"TauTracks.eProbabilityHT\", xlabel=\"eProbabilityHT\", **histopt)\n",
    "fig.savefig(path.join(plot_prefix, \"track_eProbabilityHT_1p.pdf\"))"
   ]
  },
  {
   "cell_type": "code",
   "execution_count": null,
   "metadata": {
    "collapsed": false,
    "deletable": true,
    "editable": true
   },
   "outputs": [],
   "source": [
    "histopt = dict(bins=4, range=(0, 4), normed=True, histtype=\"step\")\n",
    "fig, ax = track_plot(\"TauTracks.nInnermostPixelHits\", xlabel=\"nInnermostPixelHits\", **histopt)\n",
    "fig.savefig(path.join(plot_prefix, \"track_nInnermostPixelHits_1p.pdf\"))"
   ]
  },
  {
   "cell_type": "code",
   "execution_count": null,
   "metadata": {
    "collapsed": false,
    "deletable": true,
    "editable": true
   },
   "outputs": [],
   "source": [
    "histopt = dict(bins=9, range=(0, 9), normed=True, histtype=\"step\")\n",
    "fig, ax = track_plot(\"TauTracks.nPixelHits\", xlabel=\"nPixelHits\", **histopt)\n",
    "fig.savefig(path.join(plot_prefix, \"track_nPixelHits_1p.pdf\"))"
   ]
  },
  {
   "cell_type": "code",
   "execution_count": null,
   "metadata": {
    "collapsed": false,
    "deletable": true,
    "editable": true
   },
   "outputs": [],
   "source": [
    "histopt = dict(bins=20, range=(0, 20), normed=True, histtype=\"step\")\n",
    "fig, ax = track_plot(\"TauTracks.nSiHits\", xlabel=\"nSiHits\", **histopt)\n",
    "fig.savefig(path.join(plot_prefix, \"track_nSiHits_1p.pdf\"))"
   ]
  },
  {
   "cell_type": "code",
   "execution_count": null,
   "metadata": {
    "collapsed": false,
    "deletable": true,
    "editable": true
   },
   "outputs": [],
   "source": [
    "histopt = dict(bins=50, range=(0, 1.5), normed=True, histtype=\"step\")\n",
    "fig, ax = track_plot(\"TauTracks.ptfrac\",\n",
    "                     xlabel=r\"$\\min(p_\\mathrm{T}^\\mathrm{track} / p_\\mathrm{T}^\\mathrm{JetSeed}, 1.5)$\",\n",
    "                     **histopt)\n",
    "fig.savefig(path.join(plot_prefix, \"track_ptratio_1p.pdf\"))"
   ]
  },
  {
   "cell_type": "markdown",
   "metadata": {
    "deletable": true,
    "editable": true
   },
   "source": [
    "## Cleanup"
   ]
  },
  {
   "cell_type": "code",
   "execution_count": 24,
   "metadata": {
    "collapsed": false,
    "deletable": true,
    "editable": true
   },
   "outputs": [],
   "source": [
    "sigf_jet.close()\n",
    "bkgf_jet.close()\n",
    "sigf_track.close()\n",
    "bkgf_track.close()\n",
    "outf.close()"
   ]
  },
  {
   "cell_type": "code",
   "execution_count": null,
   "metadata": {
    "collapsed": true
   },
   "outputs": [],
   "source": []
  }
 ],
 "metadata": {
  "kernelspec": {
   "display_name": "Python 2",
   "language": "python",
   "name": "python2"
  },
  "language_info": {
   "codemirror_mode": {
    "name": "ipython",
    "version": 2
   },
   "file_extension": ".py",
   "mimetype": "text/x-python",
   "name": "python",
   "nbconvert_exporter": "python",
   "pygments_lexer": "ipython2",
   "version": "2.7.13"
  }
 },
 "nbformat": 4,
 "nbformat_minor": 2
}
